{
 "cells": [
  {
   "cell_type": "markdown",
   "metadata": {},
   "source": [
    "# Benchmark GPT-3.5 and GPT-4-turbo on Kaggle LLM Science Exam"
   ]
  },
  {
   "cell_type": "code",
   "execution_count": 1,
   "metadata": {},
   "outputs": [],
   "source": [
    "# !pip install -q openai kaggle"
   ]
  },
  {
   "cell_type": "code",
   "execution_count": 29,
   "metadata": {},
   "outputs": [],
   "source": [
    "import requests, json\n",
    "import openai\n",
    "import pandas as pd\n",
    "import warnings\n",
    "\n",
    "from IPython.display import display, HTML, Markdown"
   ]
  },
  {
   "cell_type": "code",
   "execution_count": 49,
   "metadata": {},
   "outputs": [],
   "source": [
    "from openai.types.chat.chat_completion import ChatCompletion"
   ]
  },
  {
   "cell_type": "code",
   "execution_count": 4,
   "metadata": {},
   "outputs": [
    {
     "data": {
      "text/plain": [
       "True"
      ]
     },
     "execution_count": 4,
     "metadata": {},
     "output_type": "execute_result"
    }
   ],
   "source": [
    "from dotenv import load_dotenv\n",
    "load_dotenv()"
   ]
  },
  {
   "cell_type": "code",
   "execution_count": 5,
   "metadata": {},
   "outputs": [],
   "source": [
    "import os\n",
    "import subprocess\n",
    "from pathlib import Path\n",
    "import zipfile\n",
    "\n",
    "COMPETITION='kaggle-llm-science-exam'\n",
    "\n",
    "# fix as needed\n",
    "data_dir = Path(os.getcwd()) / 'data'\n",
    "data_dir.mkdir(exist_ok=True)\n",
    "\n",
    "file_path = data_dir / f'{COMPETITION}.zip'\n",
    "\n",
    "if not os.path.exists(file_path):\n",
    "    # download dataset\n",
    "    subprocess.run(['kaggle', 'competitions', 'download', '-p', data_dir, '-c', COMPETITION], check=True)\n",
    "    # subprocess.run(['unzip', 'kaggle-llm-science-exam.zip'], check=True)\n",
    "    with zipfile.ZipFile(file_path, 'r') as zip_ref:\n",
    "        zip_ref.extractall(data_dir)\n"
   ]
  },
  {
   "cell_type": "code",
   "execution_count": 6,
   "metadata": {},
   "outputs": [
    {
     "data": {
      "text/html": [
       "<div>\n",
       "<style scoped>\n",
       "    .dataframe tbody tr th:only-of-type {\n",
       "        vertical-align: middle;\n",
       "    }\n",
       "\n",
       "    .dataframe tbody tr th {\n",
       "        vertical-align: top;\n",
       "    }\n",
       "\n",
       "    .dataframe thead th {\n",
       "        text-align: right;\n",
       "    }\n",
       "</style>\n",
       "<table border=\"1\" class=\"dataframe\">\n",
       "  <thead>\n",
       "    <tr style=\"text-align: right;\">\n",
       "      <th></th>\n",
       "      <th>id</th>\n",
       "      <th>prompt</th>\n",
       "      <th>A</th>\n",
       "      <th>B</th>\n",
       "      <th>C</th>\n",
       "      <th>D</th>\n",
       "      <th>E</th>\n",
       "      <th>answer</th>\n",
       "    </tr>\n",
       "  </thead>\n",
       "  <tbody>\n",
       "    <tr>\n",
       "      <th>0</th>\n",
       "      <td>0</td>\n",
       "      <td>Which of the following statements accurately d...</td>\n",
       "      <td>MOND is a theory that reduces the observed mis...</td>\n",
       "      <td>MOND is a theory that increases the discrepanc...</td>\n",
       "      <td>MOND is a theory that explains the missing bar...</td>\n",
       "      <td>MOND is a theory that reduces the discrepancy ...</td>\n",
       "      <td>MOND is a theory that eliminates the observed ...</td>\n",
       "      <td>D</td>\n",
       "    </tr>\n",
       "    <tr>\n",
       "      <th>1</th>\n",
       "      <td>1</td>\n",
       "      <td>Which of the following is an accurate definiti...</td>\n",
       "      <td>Dynamic scaling refers to the evolution of sel...</td>\n",
       "      <td>Dynamic scaling refers to the non-evolution of...</td>\n",
       "      <td>Dynamic scaling refers to the evolution of sel...</td>\n",
       "      <td>Dynamic scaling refers to the non-evolution of...</td>\n",
       "      <td>Dynamic scaling refers to the evolution of sel...</td>\n",
       "      <td>A</td>\n",
       "    </tr>\n",
       "    <tr>\n",
       "      <th>2</th>\n",
       "      <td>2</td>\n",
       "      <td>Which of the following statements accurately d...</td>\n",
       "      <td>The triskeles symbol was reconstructed as a fe...</td>\n",
       "      <td>The triskeles symbol is a representation of th...</td>\n",
       "      <td>The triskeles symbol is a representation of a ...</td>\n",
       "      <td>The triskeles symbol represents three interloc...</td>\n",
       "      <td>The triskeles symbol is a representation of th...</td>\n",
       "      <td>A</td>\n",
       "    </tr>\n",
       "    <tr>\n",
       "      <th>3</th>\n",
       "      <td>3</td>\n",
       "      <td>What is the significance of regularization in ...</td>\n",
       "      <td>Regularizing the mass-energy of an electron wi...</td>\n",
       "      <td>Regularizing the mass-energy of an electron wi...</td>\n",
       "      <td>Regularizing the mass-energy of an electron wi...</td>\n",
       "      <td>Regularizing the mass-energy of an electron wi...</td>\n",
       "      <td>Regularizing the mass-energy of an electron wi...</td>\n",
       "      <td>C</td>\n",
       "    </tr>\n",
       "    <tr>\n",
       "      <th>4</th>\n",
       "      <td>4</td>\n",
       "      <td>Which of the following statements accurately d...</td>\n",
       "      <td>The angular spacing of features in the diffrac...</td>\n",
       "      <td>The angular spacing of features in the diffrac...</td>\n",
       "      <td>The angular spacing of features in the diffrac...</td>\n",
       "      <td>The angular spacing of features in the diffrac...</td>\n",
       "      <td>The angular spacing of features in the diffrac...</td>\n",
       "      <td>D</td>\n",
       "    </tr>\n",
       "  </tbody>\n",
       "</table>\n",
       "</div>"
      ],
      "text/plain": [
       "   id                                             prompt  \\\n",
       "0   0  Which of the following statements accurately d...   \n",
       "1   1  Which of the following is an accurate definiti...   \n",
       "2   2  Which of the following statements accurately d...   \n",
       "3   3  What is the significance of regularization in ...   \n",
       "4   4  Which of the following statements accurately d...   \n",
       "\n",
       "                                                   A  \\\n",
       "0  MOND is a theory that reduces the observed mis...   \n",
       "1  Dynamic scaling refers to the evolution of sel...   \n",
       "2  The triskeles symbol was reconstructed as a fe...   \n",
       "3  Regularizing the mass-energy of an electron wi...   \n",
       "4  The angular spacing of features in the diffrac...   \n",
       "\n",
       "                                                   B  \\\n",
       "0  MOND is a theory that increases the discrepanc...   \n",
       "1  Dynamic scaling refers to the non-evolution of...   \n",
       "2  The triskeles symbol is a representation of th...   \n",
       "3  Regularizing the mass-energy of an electron wi...   \n",
       "4  The angular spacing of features in the diffrac...   \n",
       "\n",
       "                                                   C  \\\n",
       "0  MOND is a theory that explains the missing bar...   \n",
       "1  Dynamic scaling refers to the evolution of sel...   \n",
       "2  The triskeles symbol is a representation of a ...   \n",
       "3  Regularizing the mass-energy of an electron wi...   \n",
       "4  The angular spacing of features in the diffrac...   \n",
       "\n",
       "                                                   D  \\\n",
       "0  MOND is a theory that reduces the discrepancy ...   \n",
       "1  Dynamic scaling refers to the non-evolution of...   \n",
       "2  The triskeles symbol represents three interloc...   \n",
       "3  Regularizing the mass-energy of an electron wi...   \n",
       "4  The angular spacing of features in the diffrac...   \n",
       "\n",
       "                                                   E answer  \n",
       "0  MOND is a theory that eliminates the observed ...      D  \n",
       "1  Dynamic scaling refers to the evolution of sel...      A  \n",
       "2  The triskeles symbol is a representation of th...      A  \n",
       "3  Regularizing the mass-energy of an electron wi...      C  \n",
       "4  The angular spacing of features in the diffrac...      D  "
      ]
     },
     "execution_count": 6,
     "metadata": {},
     "output_type": "execute_result"
    }
   ],
   "source": [
    "train = pd.read_csv(data_dir / 'train.csv')\n",
    "train.head()"
   ]
  },
  {
   "cell_type": "code",
   "execution_count": 7,
   "metadata": {},
   "outputs": [
    {
     "data": {
      "text/plain": [
       "id                                                        0\n",
       "prompt    Which of the following statements accurately d...\n",
       "A         MOND is a theory that reduces the observed mis...\n",
       "B         MOND is a theory that increases the discrepanc...\n",
       "C         MOND is a theory that explains the missing bar...\n",
       "D         MOND is a theory that reduces the discrepancy ...\n",
       "E         MOND is a theory that eliminates the observed ...\n",
       "answer                                                    D\n",
       "Name: 0, dtype: object"
      ]
     },
     "execution_count": 7,
     "metadata": {},
     "output_type": "execute_result"
    }
   ],
   "source": [
    "row = train.iloc[0]\n",
    "row"
   ]
  },
  {
   "cell_type": "markdown",
   "metadata": {},
   "source": [
    "Experiment with a row and GPT-3.5"
   ]
  },
  {
   "cell_type": "code",
   "execution_count": 8,
   "metadata": {},
   "outputs": [
    {
     "name": "stdout",
     "output_type": "stream",
     "text": [
      "Answer the following multiple-choice question by providing the three most likely answers, in order or likelihood, specified by their letter followed by a space, e.g. A B C\n",
      "Question: Which of the following statements accurately describes the impact of Modified Newtonian Dynamics (MOND) on the observed \"missing baryonic mass\" discrepancy in galaxy clusters?\n",
      "A) MOND is a theory that reduces the observed missing baryonic mass in galaxy clusters by postulating the existence of a new form of matter called \"fuzzy dark matter.\"\n",
      "B) MOND is a theory that increases the discrepancy between the observed missing baryonic mass in galaxy clusters and the measured velocity dispersions from a factor of around 10 to a factor of about 20.\n",
      "C) MOND is a theory that explains the missing baryonic mass in galaxy clusters that was previously considered dark matter by demonstrating that the mass is in the form of neutrinos and axions.\n",
      "D) MOND is a theory that reduces the discrepancy between the observed missing baryonic mass in galaxy clusters and the measured velocity dispersions from a factor of around 10 to a factor of about 2.\n",
      "E) MOND is a theory that eliminates the observed missing baryonic mass in galaxy clusters by imposing a new mathematical formulation of gravity that does not require the existence of dark matter.\n",
      "\n",
      "Provide the answer in the form of the three letter choices only, without explanation, e.g. A D B\n",
      "\n"
     ]
    }
   ],
   "source": [
    "row = train.iloc[0]\n",
    "\n",
    "system_message = 'Answer the following multiple-choice question by providing the three most likely answers, in order or likelihood, specified by their letter followed by a space, e.g. A B C'\n",
    "user_message = f'Question: {row.prompt}\\n'\n",
    "user_message += '\\n'.join([f'{l}) {row[l]}' for l in 'ABCDE'])\n",
    "user_message += '\\n\\nProvide the answer in the form of the three letter choices only, without explanation, e.g. A D B\\n'\n",
    "print(system_message)\n",
    "print(user_message)\n"
   ]
  },
  {
   "cell_type": "markdown",
   "metadata": {},
   "source": [
    "## Get functions needed for API calling setup"
   ]
  },
  {
   "cell_type": "code",
   "execution_count": 41,
   "metadata": {},
   "outputs": [],
   "source": [
    "# prepare the messages array\n",
    "def create_messages_input(system_message, user_message, existing_messages=None) -> list:\n",
    "    \"\"\"\n",
    "    Create a list of messages for the OpenAI Chat Completions API.\n",
    "\n",
    "    :param system_message: A string containing the system message.\n",
    "    :param user_message: A string containing the user's message.\n",
    "    :param existing_messages: An optional list of existing messages to append to.\n",
    "    :return: A list of messages including the system message, any existing messages, and the new user message.\n",
    "    \"\"\"\n",
    "    messages = [None] if existing_messages is None else existing_messages\n",
    "    # Always start with the system message\n",
    "    messages[0] = {\"role\": \"system\", \"content\": system_message}\n",
    "    # Append the new user message\n",
    "    messages.append({\"role\": \"user\", \"content\": user_message})\n",
    "\n",
    "    return messages"
   ]
  },
  {
   "cell_type": "code",
   "execution_count": 54,
   "metadata": {},
   "outputs": [],
   "source": [
    "GPT_MODEL='gpt-3.5-turbo-1106'\n",
    "cost_prompt_tokens = 0.001 / 1000\n",
    "cost_completion_tokens = 0.002 / 1000\n",
    "# GPT_MODEL='gpt-4-1106-preview' # gpt-4 turbo preview\n",
    "# cost_prompt_tokens = 0.01 / 1000\n",
    "# cost_completion_tokens = 0.03 / 1000"
   ]
  },
  {
   "cell_type": "code",
   "execution_count": 18,
   "metadata": {},
   "outputs": [],
   "source": [
    "client = openai.OpenAI()\n",
    "# client = openai.AsyncClient()"
   ]
  },
  {
   "cell_type": "code",
   "execution_count": 58,
   "metadata": {},
   "outputs": [],
   "source": [
    "def get_chat_response(system_message, user_message, existing_messages=None, temperature=0.7, seed=None, verbose=True) -> ChatCompletion | None:\n",
    "    messages = create_messages_input(system_message, user_message, existing_messages)\n",
    "    response = None\n",
    "    try:\n",
    "        response = client.chat.completions.create(\n",
    "            model=GPT_MODEL,\n",
    "            messages=messages,\n",
    "            seed=seed,\n",
    "            max_tokens=1024,\n",
    "            temperature=temperature,\n",
    "        )\n",
    "\n",
    "        if response.choices[0].finish_reason == 'length':\n",
    "            warnings.warn('Warning: Reached max tokens')\n",
    "\n",
    "        if verbose:\n",
    "            response_content = response.choices[0].message.content\n",
    "            system_fingerprint = response.system_fingerprint\n",
    "            prompt_tokens = response.usage.prompt_tokens if response.usage else None\n",
    "            completion_tokens = response.usage.completion_tokens if response.usage else None\n",
    "\n",
    "            table = f\"\"\"\n",
    "            <table>\n",
    "            <tr><th>Response</th><td>{response_content}</td></tr>\n",
    "            <tr><th>System Fingerprint</th><td>{system_fingerprint}</td></tr>\n",
    "            <tr><th>Number of prompt tokens</th><td>{prompt_tokens}</td></tr>\n",
    "            <tr><th>Number of completion tokens</th><td>{completion_tokens}</td></tr>\n",
    "            </table>\n",
    "            \"\"\"\n",
    "            display(HTML(table))\n",
    "\n",
    "    except Exception as e:\n",
    "        print(f'An error occurred: {e}')\n",
    "        # return None\n",
    "        return response\n",
    "    return response"
   ]
  },
  {
   "cell_type": "code",
   "execution_count": 52,
   "metadata": {},
   "outputs": [
    {
     "data": {
      "text/html": [
       "\n",
       "            <table>\n",
       "            <tr><th>Response</th><td>In the year 2150, Earth had become a place where technology and humanity intertwined in ways previously unimaginable. The rise of artificial intelligence had led to the creation of lifelike androids, known as replicants, that were virtually indistinguishable from humans. However, as their presence grew, so did the fear of their potential to rebel against their creators.\n",
       "\n",
       "Enter Jax, a seasoned bladerunner, tasked with tracking down and \"retiring\" rogue replicants. Jax had seen it all, from the most cunning and deceptive models to the most violent and ruthless. His job was dangerous, but he was the best at what he did.\n",
       "\n",
       "One day, Jax was given a new assignment: to track down a group of replicants who had escaped from a high-security facility. These replicants were different, though. They were designed to be stronger, faster, and more intelligent than any before them. As Jax delved deeper into the case, he began to question the morality of his mission. Were these replicants truly dangerous, or were they simply fighting for their own freedom?\n",
       "\n",
       "As Jax pursued the fugitive replicants across the city, he found himself forming an unexpected bond with them. They were not the mindless machines he had been led to believe. They had hopes, dreams, and desires just like humans. Jax began to see them as more than just targets to be eliminated.\n",
       "\n",
       "In a dramatic showdown, Jax confronted the replicants, but instead of carrying out his mission, he chose to stand with them. Together, they worked to expose the corrupt practices of the corporation that had created them, and in doing so, they sparked a revolution that would change the course of history for both humans and replicants alike.\n",
       "\n",
       "Jax became a symbol of hope for a new era of coexistence between humans and their creations, and his actions paved the way for a future where understanding and compassion triumphed over fear and prejudice. And as the sun set on the city, Jax knew that he had played a pivotal role in shaping the destiny of his world.</td></tr>\n",
       "            <tr><th>System Fingerprint</th><td>fp_eeff13170a</td></tr>\n",
       "            <tr><th>Number of prompt tokens</th><td>32</td></tr>\n",
       "            <tr><th>Number of completion tokens</th><td>422</td></tr>\n",
       "            </table>\n",
       "            "
      ],
      "text/plain": [
       "<IPython.core.display.HTML object>"
      ]
     },
     "metadata": {},
     "output_type": "display_data"
    },
    {
     "data": {
      "text/plain": [
       "ChatCompletion(id='chatcmpl-8ONkPVqp0ellKDoekaHro8rBQ4YM4', choices=[Choice(finish_reason='stop', index=0, message=ChatCompletionMessage(content='In the year 2150, Earth had become a place where technology and humanity intertwined in ways previously unimaginable. The rise of artificial intelligence had led to the creation of lifelike androids, known as replicants, that were virtually indistinguishable from humans. However, as their presence grew, so did the fear of their potential to rebel against their creators.\\n\\nEnter Jax, a seasoned bladerunner, tasked with tracking down and \"retiring\" rogue replicants. Jax had seen it all, from the most cunning and deceptive models to the most violent and ruthless. His job was dangerous, but he was the best at what he did.\\n\\nOne day, Jax was given a new assignment: to track down a group of replicants who had escaped from a high-security facility. These replicants were different, though. They were designed to be stronger, faster, and more intelligent than any before them. As Jax delved deeper into the case, he began to question the morality of his mission. Were these replicants truly dangerous, or were they simply fighting for their own freedom?\\n\\nAs Jax pursued the fugitive replicants across the city, he found himself forming an unexpected bond with them. They were not the mindless machines he had been led to believe. They had hopes, dreams, and desires just like humans. Jax began to see them as more than just targets to be eliminated.\\n\\nIn a dramatic showdown, Jax confronted the replicants, but instead of carrying out his mission, he chose to stand with them. Together, they worked to expose the corrupt practices of the corporation that had created them, and in doing so, they sparked a revolution that would change the course of history for both humans and replicants alike.\\n\\nJax became a symbol of hope for a new era of coexistence between humans and their creations, and his actions paved the way for a future where understanding and compassion triumphed over fear and prejudice. And as the sun set on the city, Jax knew that he had played a pivotal role in shaping the destiny of his world.', role='assistant', function_call=None, tool_calls=None))], created=1700821849, model='gpt-3.5-turbo-1106', object='chat.completion', system_fingerprint='fp_eeff13170a', usage=CompletionUsage(completion_tokens=422, prompt_tokens=32, total_tokens=454))"
      ]
     },
     "execution_count": 52,
     "metadata": {},
     "output_type": "execute_result"
    }
   ],
   "source": [
    "# TODO use JSON return in a useful format https://platform.openai.com/docs/guides/text-generation/json-mode\n",
    "system_messaage = 'You are a helpful assistant that generates short stories about science fiction.'\n",
    "user_message = 'Generate a story about a bladerunner'\n",
    "response = get_chat_response(system_messaage, user_message)\n",
    "response"
   ]
  },
  {
   "cell_type": "markdown",
   "metadata": {},
   "source": [
    "## Test GPT-3.5 with some questions"
   ]
  },
  {
   "cell_type": "code",
   "execution_count": 31,
   "metadata": {},
   "outputs": [
    {
     "name": "stdout",
     "output_type": "stream",
     "text": [
      "Answer the following multiple-choice question by providing the three most likely answers, in order or likelihood, specified by their letter followed by a space, e.g. A B C\n",
      "Question: Which of the following statements accurately describes the impact of Modified Newtonian Dynamics (MOND) on the observed \"missing baryonic mass\" discrepancy in galaxy clusters?\n",
      "A) MOND is a theory that reduces the observed missing baryonic mass in galaxy clusters by postulating the existence of a new form of matter called \"fuzzy dark matter.\"\n",
      "B) MOND is a theory that increases the discrepancy between the observed missing baryonic mass in galaxy clusters and the measured velocity dispersions from a factor of around 10 to a factor of about 20.\n",
      "C) MOND is a theory that explains the missing baryonic mass in galaxy clusters that was previously considered dark matter by demonstrating that the mass is in the form of neutrinos and axions.\n",
      "D) MOND is a theory that reduces the discrepancy between the observed missing baryonic mass in galaxy clusters and the measured velocity dispersions from a factor of around 10 to a factor of about 2.\n",
      "E) MOND is a theory that eliminates the observed missing baryonic mass in galaxy clusters by imposing a new mathematical formulation of gravity that does not require the existence of dark matter.\n",
      "\n",
      "Provide the answer in the form of the three letter choices only, without explanation, e.g. A D B\n",
      "\n"
     ]
    }
   ],
   "source": [
    "row = train.iloc[0]\n",
    "\n",
    "system_message = 'Answer the following multiple-choice question by providing the three most likely answers, in order or likelihood, specified by their letter followed by a space, e.g. A B C'\n",
    "user_message = f'Question: {row.prompt}\\n'\n",
    "user_message += '\\n'.join([f'{l}) {row[l]}' for l in 'ABCDE'])\n",
    "user_message += '\\n\\nProvide the answer in the form of the three letter choices only, without explanation, e.g. A D B\\n'\n",
    "print(system_message)\n",
    "print(user_message)\n"
   ]
  },
  {
   "cell_type": "code",
   "execution_count": 32,
   "metadata": {},
   "outputs": [
    {
     "data": {
      "text/html": [
       "\n",
       "        <table>\n",
       "        <tr><th>Response</th><td>B D E</td></tr>\n",
       "        <tr><th>System Fingerprint</th><td>fp_eeff13170a</td></tr>\n",
       "        <tr><th>Number of prompt tokens</th><td>303</td></tr>\n",
       "        <tr><th>Number of completion tokens</th><td>3</td></tr>\n",
       "        </table>\n",
       "        "
      ],
      "text/plain": [
       "<IPython.core.display.HTML object>"
      ]
     },
     "metadata": {},
     "output_type": "display_data"
    }
   ],
   "source": [
    "response = get_chat_response(system_message, user_message)"
   ]
  },
  {
   "cell_type": "code",
   "execution_count": 36,
   "metadata": {},
   "outputs": [
    {
     "name": "stdout",
     "output_type": "stream",
     "text": [
      "Question: Which of the following statements accurately describes the impact of Modified Newtonian Dynamics (MOND) on the observed \"missing baryonic mass\" discrepancy in galaxy clusters?\n",
      "A) MOND is a theory that reduces the observed missing baryonic mass in galaxy clusters by postulating the existence of a new form of matter called \"fuzzy dark matter.\"\n",
      "B) MOND is a theory that increases the discrepancy between the observed missing baryonic mass in galaxy clusters and the measured velocity dispersions from a factor of around 10 to a factor of about 20.\n",
      "C) MOND is a theory that explains the missing baryonic mass in galaxy clusters that was previously considered dark matter by demonstrating that the mass is in the form of neutrinos and axions.\n",
      "D) MOND is a theory that reduces the discrepancy between the observed missing baryonic mass in galaxy clusters and the measured velocity dispersions from a factor of around 10 to a factor of about 2.\n",
      "E) MOND is a theory that eliminates the observed missing baryonic mass in galaxy clusters by imposing a new mathematical formulation of gravity that does not require the existence of dark matter.\n",
      "\n",
      "Provide the answer in the form of the three letter choices only, without explanation, e.g. A D B\n",
      "\n",
      "B D E\n",
      "Answer:  D\n"
     ]
    }
   ],
   "source": [
    "print(user_message)\n",
    "print(response.choices[0].message.content)\n",
    "print('Answer: ', row.answer)"
   ]
  },
  {
   "cell_type": "markdown",
   "metadata": {},
   "source": [
    "Get a quick estimate running over 100 rows"
   ]
  },
  {
   "cell_type": "code",
   "execution_count": 64,
   "metadata": {},
   "outputs": [
    {
     "data": {
      "text/html": [
       "\n",
       "            <table>\n",
       "            <tr><th>Response</th><td>D B E</td></tr>\n",
       "            <tr><th>System Fingerprint</th><td>fp_eeff13170a</td></tr>\n",
       "            <tr><th>Number of prompt tokens</th><td>303</td></tr>\n",
       "            <tr><th>Number of completion tokens</th><td>3</td></tr>\n",
       "            </table>\n",
       "            "
      ],
      "text/plain": [
       "<IPython.core.display.HTML object>"
      ]
     },
     "metadata": {},
     "output_type": "display_data"
    },
    {
     "name": "stdout",
     "output_type": "stream",
     "text": [
      "User Message: Question: Which of the following statements accurately describes the impact of Modified Newtonian Dynamics (MOND) on the observed \"missing baryonic mass\" discrepancy in galaxy clusters?\n",
      "A) MOND is a theory that reduces the observed missing baryonic mass in galaxy clusters by postulating the existence of a new form of matter called \"fuzzy dark matter.\"\n",
      "B) MOND is a theory that increases the discrepancy between the observed missing baryonic mass in galaxy clusters and the measured velocity dispersions from a factor of around 10 to a factor of about 20.\n",
      "C) MOND is a theory that explains the missing baryonic mass in galaxy clusters that was previously considered dark matter by demonstrating that the mass is in the form of neutrinos and axions.\n",
      "D) MOND is a theory that reduces the discrepancy between the observed missing baryonic mass in galaxy clusters and the measured velocity dispersions from a factor of around 10 to a factor of about 2.\n",
      "E) MOND is a theory that eliminates the observed missing baryonic mass in galaxy clusters by imposing a new mathematical formulation of gravity that does not require the existence of dark matter.\n",
      "\n",
      "Provide the answer in the form of the three letter choices only, without explanation, e.g. A D B\n",
      "\n",
      "Response: D B E\n",
      "Answer: D\n",
      "---\n"
     ]
    },
    {
     "data": {
      "text/html": [
       "\n",
       "            <table>\n",
       "            <tr><th>Response</th><td>A E B</td></tr>\n",
       "            <tr><th>System Fingerprint</th><td>fp_eeff13170a</td></tr>\n",
       "            <tr><th>Number of prompt tokens</th><td>352</td></tr>\n",
       "            <tr><th>Number of completion tokens</th><td>3</td></tr>\n",
       "            </table>\n",
       "            "
      ],
      "text/plain": [
       "<IPython.core.display.HTML object>"
      ]
     },
     "metadata": {},
     "output_type": "display_data"
    },
    {
     "name": "stdout",
     "output_type": "stream",
     "text": [
      "User Message: Question: Which of the following is an accurate definition of dynamic scaling in self-similar systems?\n",
      "A) Dynamic scaling refers to the evolution of self-similar systems, where data obtained from snapshots at fixed times exhibits similarity to the respective data taken from snapshots of any earlier or later time. This similarity is tested by a certain time-dependent stochastic variable x.\n",
      "B) Dynamic scaling refers to the non-evolution of self-similar systems, where data obtained from snapshots at fixed times is similar to the respective data taken from snapshots of any earlier or later time. This similarity is tested by a certain time-dependent stochastic variable x.\n",
      "C) Dynamic scaling refers to the evolution of self-similar systems, where data obtained from snapshots at fixed times is dissimilar to the respective data taken from snapshots of any earlier or later time. This dissimilarity is tested by a certain time-independent stochastic variable y.\n",
      "D) Dynamic scaling refers to the non-evolution of self-similar systems, where data obtained from snapshots at fixed times is dissimilar to the respective data taken from snapshots of any earlier or later time. This dissimilarity is tested by a certain time-independent stochastic variable y.\n",
      "E) Dynamic scaling refers to the evolution of self-similar systems, where data obtained from snapshots at fixed times is independent of the respective data taken from snapshots of any earlier or later time. This independence is tested by a certain time-dependent stochastic variable z.\n",
      "\n",
      "Provide the answer in the form of the three letter choices only, without explanation, e.g. A D B\n",
      "\n",
      "Response: A E B\n",
      "Answer: A\n",
      "---\n"
     ]
    },
    {
     "data": {
      "text/html": [
       "\n",
       "            <table>\n",
       "            <tr><th>Response</th><td>C A E</td></tr>\n",
       "            <tr><th>System Fingerprint</th><td>fp_eeff13170a</td></tr>\n",
       "            <tr><th>Number of prompt tokens</th><td>476</td></tr>\n",
       "            <tr><th>Number of completion tokens</th><td>3</td></tr>\n",
       "            </table>\n",
       "            "
      ],
      "text/plain": [
       "<IPython.core.display.HTML object>"
      ]
     },
     "metadata": {},
     "output_type": "display_data"
    },
    {
     "name": "stdout",
     "output_type": "stream",
     "text": [
      "User Message: Question: Which of the following statements accurately describes the origin and significance of the triskeles symbol?\n",
      "A) The triskeles symbol was reconstructed as a feminine divine triad by the rulers of Syracuse, and later adopted as an emblem. Its usage may also be related to the Greek name of Sicily, Trinacria, which means \"having three headlands.\" The head of Medusa at the center of the Sicilian triskeles represents the three headlands.\n",
      "B) The triskeles symbol is a representation of three interlinked spirals, which was adopted as an emblem by the rulers of Syracuse. Its usage in modern flags of Sicily has its origins in the ancient Greek name for the island, Trinacria, which means \"Sicily with three corners.\" The head of Medusa at the center is a representation of the island's rich cultural heritage.\n",
      "C) The triskeles symbol is a representation of a triple goddess, reconstructed by the rulers of Syracuse, who adopted it as an emblem. Its significance lies in the fact that it represents the Greek name for Sicily, Trinacria, which contains the element \"tria,\" meaning three. The head of Medusa at the center of the Sicilian triskeles represents the three headlands.\n",
      "D) The triskeles symbol represents three interlocked spiral arms, which became an emblem for the rulers of Syracuse. Its usage in modern flags of Sicily is due to the island's rich cultural heritage, which dates back to ancient times. The head of Medusa at the center represents the lasting influence of Greek mythology on Sicilian culture.\n",
      "E) The triskeles symbol is a representation of the Greek goddess Hecate, reconstructed by the rulers of Syracuse. Its adoption as an emblem was due to its cultural significance, as it represented the ancient Greek name for Sicily, Trinacria. The head of Medusa at the center of the Sicilian triskeles represents the island's central location in the Mediterranean.\n",
      "\n",
      "Provide the answer in the form of the three letter choices only, without explanation, e.g. A D B\n",
      "\n",
      "Response: C A E\n",
      "Answer: A\n",
      "---\n"
     ]
    },
    {
     "data": {
      "text/html": [
       "\n",
       "            <table>\n",
       "            <tr><th>Response</th><td>A C E</td></tr>\n",
       "            <tr><th>System Fingerprint</th><td>fp_eeff13170a</td></tr>\n",
       "            <tr><th>Number of prompt tokens</th><td>302</td></tr>\n",
       "            <tr><th>Number of completion tokens</th><td>3</td></tr>\n",
       "            </table>\n",
       "            "
      ],
      "text/plain": [
       "<IPython.core.display.HTML object>"
      ]
     },
     "metadata": {},
     "output_type": "display_data"
    },
    {
     "name": "stdout",
     "output_type": "stream",
     "text": [
      "User Message: Question: What is the significance of regularization in terms of renormalization problems in physics?\n",
      "A) Regularizing the mass-energy of an electron with a finite radius can theoretically simplify calculations involving infinities or singularities, thereby providing explanations that would otherwise be impossible to achieve.\n",
      "B) Regularizing the mass-energy of an electron with an infinite radius allows for the breakdown of a theory that is valid under one set of conditions. This approach can be applied to other renormalization problems as well.\n",
      "C) Regularizing the mass-energy of an electron with a finite radius is a means of demonstrating that a system below a certain size can be explained without the need for further calculations. This approach can be applied to other renormalization problems as well.\n",
      "D) Regularizing the mass-energy of an electron with an infinite radius can be used to provide a highly accurate description of a system under specific conditions. This approach can be transferred to other renormalization problems as well.\n",
      "E) Regularizing the mass-energy of an electron with an infinite radius is essential for explaining how a system below a certain size operates. This approach can be applied to other renormalization problems as well.\n",
      "\n",
      "Provide the answer in the form of the three letter choices only, without explanation, e.g. A D B\n",
      "\n",
      "Response: A C E\n",
      "Answer: C\n",
      "---\n",
      "Average score: 0.8033333333333332\n",
      "Cost: $0.025675999999999997, prompt_tokens=25076, completion_tokens=300\n"
     ]
    }
   ],
   "source": [
    "system_message = 'Answer the following multiple-choice question by providing the three most likely answers, in order or likelihood, specified by their letter followed by a space, e.g. A B C'\n",
    "verbose = True\n",
    "score = 0\n",
    "n_questions = 100\n",
    "prompt_tokens = completion_tokens = 0\n",
    "temperature = 0.0\n",
    "\n",
    "for index, row in train.head(n_questions).iterrows():\n",
    "    user_message = f'Question: {row.prompt}\\n'\n",
    "    user_message += '\\n'.join([f'{l}) {row[l]}' for l in 'ABCDE'])\n",
    "    user_message += '\\n\\nProvide the answer in the form of the three letter choices only, without explanation, e.g. A D B\\n'\n",
    "\n",
    "    response = get_chat_response(system_message, user_message, verbose=verbose, temperature=temperature)\n",
    "\n",
    "    assistant_message = response.choices[0].message.content\n",
    "\n",
    "    if verbose:\n",
    "        print(f'User Message: {user_message}')\n",
    "        print(f'Response: {assistant_message}')\n",
    "        print(f'Answer: {row.answer}')\n",
    "        print('---')\n",
    "\n",
    "    # Score\n",
    "    answers = assistant_message.split(' ')[:3]\n",
    "    correct_answer = row.answer\n",
    "    for i, pred in enumerate(answers):\n",
    "        if pred == correct_answer:\n",
    "            score += 1 / (i + 1)  # 1 for first being correct, 1/2 for second, 1/3 for third\n",
    "\n",
    "    prompt_tokens += response.usage.prompt_tokens\n",
    "    completion_tokens += response.usage.completion_tokens\n",
    "\n",
    "    if index >= 3:\n",
    "        verbose = False\n",
    "\n",
    "\n",
    "total_cost = prompt_tokens * cost_prompt_tokens + completion_tokens * cost_completion_tokens\n",
    "print(f'Average score: {score / n_questions}')\n",
    "print(f'Cost: ${total_cost}, prompt_tokens={prompt_tokens}, completion_tokens={completion_tokens}')"
   ]
  },
  {
   "cell_type": "markdown",
   "metadata": {},
   "source": [
    "### Use function calling interface to get more structured output\n",
    "(could also just use the new response_format='json')"
   ]
  },
  {
   "cell_type": "code",
   "execution_count": 86,
   "metadata": {},
   "outputs": [
    {
     "name": "stdout",
     "output_type": "stream",
     "text": [
      "{\"answer\":{\"answer\":[\"A\",\"B\",\"C\"]},\"reasoning\":\"Because I said so\"}\n"
     ]
    },
    {
     "data": {
      "text/plain": [
       "AnswerQuestionResponse(answer=<class '__main__.Answer'>, reasoning='Because I said so')"
      ]
     },
     "execution_count": 86,
     "metadata": {},
     "output_type": "execute_result"
    }
   ],
   "source": [
    "from pydantic import BaseModel, Field\n",
    "\n",
    "class Answer(BaseModel):\n",
    "    answer: list[str] = Field(str, min_length=3, max_length=3)\n",
    "\n",
    "class AnswerQuestion(BaseModel):\n",
    "    question: str = Field(str, description='The question to answer')\n",
    "    choices: list[str] = Field(str, description='The choices to choose from')\n",
    "    answer: Answer = Field(Answer, description='The answer to the question')\n",
    "\n",
    "class AnswerQuestionResponse(BaseModel):\n",
    "    answer: Answer = Field(Answer, description='The answer to the question')\n",
    "    reasoning: str = Field(str, description='The reasoning for the answer')\n",
    "\n",
    "aqr = AnswerQuestionResponse(answer=Answer(answer=['A', 'B', 'C']), reasoning='Because I said so')\n",
    "print(aqr.model_dump_json())\n",
    "AnswerQuestionResponse.model_validate_json(aqr.model_dump_json())\n",
    "AnswerQuestionResponse.model_validate_json('{\"answer_question_response\": {\"answer\": [\"A\", \"B\", \"C\"]}, \"reasoning\": \"Because I said so\"}')"
   ]
  },
  {
   "cell_type": "code",
   "execution_count": 90,
   "metadata": {},
   "outputs": [],
   "source": [
    "def answer_question(answer: str, reasoning: str):\n",
    "    table = f\"\"\"\n",
    "    <table>\n",
    "    <tr><th>Answer</th><td>{answer}</td></tr>\n",
    "    <tr><th>Reasoning</th><td>{reasoning}</td></tr>\n",
    "    </table>\n",
    "    \"\"\"\n",
    "    display(HTML(table))\n",
    "    return answer, reasoning\n",
    "\n",
    "def get_function_call_answer(system_messaage, user_message, verbose=True, temperature=0.7, seed=None):\n",
    "    messages = create_messages_input(system_messaage, user_message)\n",
    "\n",
    "    answers = []\n",
    "    tools = [\n",
    "        {\n",
    "            \"type\": \"function\",\n",
    "            \"function\": {\n",
    "                \"name\": \"answer_question\",\n",
    "                \"description\": \"Answers the provided question\",\n",
    "                \"parameters\": {\n",
    "                    \"type\": \"object\",\n",
    "                    \"properties\": {\n",
    "                        \"reasoning\": {\n",
    "                            \"type\": \"string\",\n",
    "                            \"description\": \"Reasining for what the answer could be. Keep it short.\"\n",
    "                        },\n",
    "                        \"answers\": {\n",
    "                            \"type\": \"array\",\n",
    "                            \"items\": {\n",
    "                                \"type\": \"string\",\n",
    "                                \"enum\": [\"A\", \"B\", \"C\", \"D\", \"E\"],\n",
    "                            },\n",
    "                            \"description\": \"Your top 3 guesses, from most to least likely. e.g. ['A', 'D', 'C']\"\n",
    "                        }\n",
    "                    },\n",
    "                    \"required\": [\"reasoning\", \"answers\"],\n",
    "                },\n",
    "            }\n",
    "        }\n",
    "    ]\n",
    "    response = None\n",
    "    try:\n",
    "        response = client.chat.completions.create(\n",
    "            model=GPT_MODEL,\n",
    "            messages=messages,\n",
    "            seed=seed,\n",
    "            max_tokens=1024,\n",
    "            temperature=temperature,\n",
    "            tools=tools,\n",
    "            tool_choice={\"type\": \"function\", \"function\": {\"name\": \"answer_question\"}})\n",
    "        response_message = response.choices[0].message\n",
    "        tool_calls = response_message.tool_calls\n",
    "\n",
    "        if not tool_calls or len(tool_calls) > 1:\n",
    "            raise Exception(f'Expected exactly one tool call but got {0 if not tools_calls else len(tool_calls)}')\n",
    "        for tool_call in tool_calls:\n",
    "            if tool_call.function.name == 'answer_question':\n",
    "                function_args = json.loads(tool_call.function.arguments)\n",
    "                answers.append(function_args)\n",
    "\n",
    "        if response.choices[0].finish_reason == 'length':\n",
    "            warnings.warn('Warning: Reached max tokens')\n",
    "\n",
    "        if verbose:\n",
    "            response_content = response.choices[0].message.content\n",
    "            system_fingerprint = response.system_fingerprint\n",
    "            prompt_tokens = response.usage.prompt_tokens if response.usage else None\n",
    "            completion_tokens = response.usage.completion_tokens if response.usage else None\n",
    "\n",
    "            table = f\"\"\"\n",
    "            <table>\n",
    "            <tr><th>Response</th><td>{response_content}</td></tr>\n",
    "            <tr><th>System Fingerprint</th><td>{system_fingerprint}</td></tr>\n",
    "            <tr><th>Number of prompt tokens</th><td>{prompt_tokens}</td></tr>\n",
    "            <tr><th>Number of completion tokens</th><td>{completion_tokens}</td></tr>\n",
    "            </table>\n",
    "            \"\"\"\n",
    "            display(HTML(table))\n",
    "    except Exception as e:\n",
    "        print(f'An error occurred: {e}')\n",
    "        # return None\n",
    "    return answers"
   ]
  },
  {
   "cell_type": "code",
   "execution_count": 98,
   "metadata": {},
   "outputs": [
    {
     "data": {
      "text/html": [
       "\n",
       "            <table>\n",
       "            <tr><th>Response</th><td>None</td></tr>\n",
       "            <tr><th>System Fingerprint</th><td>fp_eeff13170a</td></tr>\n",
       "            <tr><th>Number of prompt tokens</th><td>410</td></tr>\n",
       "            <tr><th>Number of completion tokens</th><td>61</td></tr>\n",
       "            </table>\n",
       "            "
      ],
      "text/plain": [
       "<IPython.core.display.HTML object>"
      ]
     },
     "metadata": {},
     "output_type": "display_data"
    },
    {
     "name": "stdout",
     "output_type": "stream",
     "text": [
      "Predicted answer:  ['D', 'B', 'E']\n",
      "Predicted reasoning:  MOND is known for reducing the discrepancy between observed missing baryonic mass and measured velocity dispersions, so options D and B are more likely. Option A is less likely as MOND does not postulate the existence of fuzzy dark matter.\n",
      "Answer:  D\n"
     ]
    }
   ],
   "source": [
    "row = train.iloc[0]\n",
    "system_message = 'Answer the following multiple-choice question by providing the three most likely answers, in order or likelihood, specified by their letter followed by a space, e.g. A B C'\n",
    "user_message = f'Question: {row.prompt}\\n'\n",
    "user_message += '\\n'.join([f'{l}) {row[l]}' for l in 'ABCDE'])\n",
    "user_message += '\\n\\nProvide the answer in the form of the three letter choices only, without explanation, e.g. A D B\\n'\n",
    "\n",
    "answers = get_function_call_answer(system_message, user_message, temperature=0.7, seed=42)\n",
    "\n",
    "print('Predicted answer: ', answers[0]['answers'])\n",
    "print('Predicted reasoning: ', answers[0]['reasoning'])\n",
    "print('Answer: ', row.answer)"
   ]
  }
 ],
 "metadata": {
  "kernelspec": {
   "display_name": ".venv",
   "language": "python",
   "name": "python3"
  },
  "language_info": {
   "codemirror_mode": {
    "name": "ipython",
    "version": 3
   },
   "file_extension": ".py",
   "mimetype": "text/x-python",
   "name": "python",
   "nbconvert_exporter": "python",
   "pygments_lexer": "ipython3",
   "version": "3.11.6"
  }
 },
 "nbformat": 4,
 "nbformat_minor": 2
}
