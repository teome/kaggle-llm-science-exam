{
 "cells": [
  {
   "cell_type": "markdown",
   "metadata": {},
   "source": [
    "# Benchmark GPT-3.5 and GPT-4-turbo on Kaggle LLM Science Exam"
   ]
  },
  {
   "cell_type": "code",
   "execution_count": 1,
   "metadata": {},
   "outputs": [],
   "source": [
    "# !pip install -q openai kaggle"
   ]
  },
  {
   "cell_type": "code",
   "execution_count": 2,
   "metadata": {},
   "outputs": [],
   "source": [
    "import requests, json\n",
    "import openai\n",
    "import pandas as pd\n",
    "import warnings\n",
    "\n",
    "from IPython.display import display, HTML, Markdown"
   ]
  },
  {
   "cell_type": "code",
   "execution_count": 3,
   "metadata": {},
   "outputs": [],
   "source": [
    "from openai.types.chat.chat_completion import ChatCompletion"
   ]
  },
  {
   "cell_type": "code",
   "execution_count": 4,
   "metadata": {},
   "outputs": [
    {
     "data": {
      "text/plain": [
       "True"
      ]
     },
     "execution_count": 4,
     "metadata": {},
     "output_type": "execute_result"
    }
   ],
   "source": [
    "from dotenv import load_dotenv\n",
    "load_dotenv()"
   ]
  },
  {
   "cell_type": "code",
   "execution_count": 5,
   "metadata": {},
   "outputs": [],
   "source": [
    "import os\n",
    "import subprocess\n",
    "from pathlib import Path\n",
    "import zipfile\n",
    "\n",
    "COMPETITION='kaggle-llm-science-exam'\n",
    "\n",
    "# fix as needed\n",
    "data_dir = Path(os.getcwd()) / 'data'\n",
    "data_dir.mkdir(exist_ok=True)\n",
    "\n",
    "file_path = data_dir / f'{COMPETITION}.zip'\n",
    "\n",
    "if not os.path.exists(file_path):\n",
    "    # download dataset\n",
    "    subprocess.run(['kaggle', 'competitions', 'download', '-p', data_dir, '-c', COMPETITION], check=True)\n",
    "    # subprocess.run(['unzip', 'kaggle-llm-science-exam.zip'], check=True)\n",
    "    with zipfile.ZipFile(file_path, 'r') as zip_ref:\n",
    "        zip_ref.extractall(data_dir)\n"
   ]
  },
  {
   "cell_type": "code",
   "execution_count": 6,
   "metadata": {},
   "outputs": [
    {
     "data": {
      "text/html": [
       "<div>\n",
       "<style scoped>\n",
       "    .dataframe tbody tr th:only-of-type {\n",
       "        vertical-align: middle;\n",
       "    }\n",
       "\n",
       "    .dataframe tbody tr th {\n",
       "        vertical-align: top;\n",
       "    }\n",
       "\n",
       "    .dataframe thead th {\n",
       "        text-align: right;\n",
       "    }\n",
       "</style>\n",
       "<table border=\"1\" class=\"dataframe\">\n",
       "  <thead>\n",
       "    <tr style=\"text-align: right;\">\n",
       "      <th></th>\n",
       "      <th>id</th>\n",
       "      <th>prompt</th>\n",
       "      <th>A</th>\n",
       "      <th>B</th>\n",
       "      <th>C</th>\n",
       "      <th>D</th>\n",
       "      <th>E</th>\n",
       "      <th>answer</th>\n",
       "    </tr>\n",
       "  </thead>\n",
       "  <tbody>\n",
       "    <tr>\n",
       "      <th>0</th>\n",
       "      <td>0</td>\n",
       "      <td>Which of the following statements accurately d...</td>\n",
       "      <td>MOND is a theory that reduces the observed mis...</td>\n",
       "      <td>MOND is a theory that increases the discrepanc...</td>\n",
       "      <td>MOND is a theory that explains the missing bar...</td>\n",
       "      <td>MOND is a theory that reduces the discrepancy ...</td>\n",
       "      <td>MOND is a theory that eliminates the observed ...</td>\n",
       "      <td>D</td>\n",
       "    </tr>\n",
       "    <tr>\n",
       "      <th>1</th>\n",
       "      <td>1</td>\n",
       "      <td>Which of the following is an accurate definiti...</td>\n",
       "      <td>Dynamic scaling refers to the evolution of sel...</td>\n",
       "      <td>Dynamic scaling refers to the non-evolution of...</td>\n",
       "      <td>Dynamic scaling refers to the evolution of sel...</td>\n",
       "      <td>Dynamic scaling refers to the non-evolution of...</td>\n",
       "      <td>Dynamic scaling refers to the evolution of sel...</td>\n",
       "      <td>A</td>\n",
       "    </tr>\n",
       "    <tr>\n",
       "      <th>2</th>\n",
       "      <td>2</td>\n",
       "      <td>Which of the following statements accurately d...</td>\n",
       "      <td>The triskeles symbol was reconstructed as a fe...</td>\n",
       "      <td>The triskeles symbol is a representation of th...</td>\n",
       "      <td>The triskeles symbol is a representation of a ...</td>\n",
       "      <td>The triskeles symbol represents three interloc...</td>\n",
       "      <td>The triskeles symbol is a representation of th...</td>\n",
       "      <td>A</td>\n",
       "    </tr>\n",
       "    <tr>\n",
       "      <th>3</th>\n",
       "      <td>3</td>\n",
       "      <td>What is the significance of regularization in ...</td>\n",
       "      <td>Regularizing the mass-energy of an electron wi...</td>\n",
       "      <td>Regularizing the mass-energy of an electron wi...</td>\n",
       "      <td>Regularizing the mass-energy of an electron wi...</td>\n",
       "      <td>Regularizing the mass-energy of an electron wi...</td>\n",
       "      <td>Regularizing the mass-energy of an electron wi...</td>\n",
       "      <td>C</td>\n",
       "    </tr>\n",
       "    <tr>\n",
       "      <th>4</th>\n",
       "      <td>4</td>\n",
       "      <td>Which of the following statements accurately d...</td>\n",
       "      <td>The angular spacing of features in the diffrac...</td>\n",
       "      <td>The angular spacing of features in the diffrac...</td>\n",
       "      <td>The angular spacing of features in the diffrac...</td>\n",
       "      <td>The angular spacing of features in the diffrac...</td>\n",
       "      <td>The angular spacing of features in the diffrac...</td>\n",
       "      <td>D</td>\n",
       "    </tr>\n",
       "  </tbody>\n",
       "</table>\n",
       "</div>"
      ],
      "text/plain": [
       "   id                                             prompt  \\\n",
       "0   0  Which of the following statements accurately d...   \n",
       "1   1  Which of the following is an accurate definiti...   \n",
       "2   2  Which of the following statements accurately d...   \n",
       "3   3  What is the significance of regularization in ...   \n",
       "4   4  Which of the following statements accurately d...   \n",
       "\n",
       "                                                   A  \\\n",
       "0  MOND is a theory that reduces the observed mis...   \n",
       "1  Dynamic scaling refers to the evolution of sel...   \n",
       "2  The triskeles symbol was reconstructed as a fe...   \n",
       "3  Regularizing the mass-energy of an electron wi...   \n",
       "4  The angular spacing of features in the diffrac...   \n",
       "\n",
       "                                                   B  \\\n",
       "0  MOND is a theory that increases the discrepanc...   \n",
       "1  Dynamic scaling refers to the non-evolution of...   \n",
       "2  The triskeles symbol is a representation of th...   \n",
       "3  Regularizing the mass-energy of an electron wi...   \n",
       "4  The angular spacing of features in the diffrac...   \n",
       "\n",
       "                                                   C  \\\n",
       "0  MOND is a theory that explains the missing bar...   \n",
       "1  Dynamic scaling refers to the evolution of sel...   \n",
       "2  The triskeles symbol is a representation of a ...   \n",
       "3  Regularizing the mass-energy of an electron wi...   \n",
       "4  The angular spacing of features in the diffrac...   \n",
       "\n",
       "                                                   D  \\\n",
       "0  MOND is a theory that reduces the discrepancy ...   \n",
       "1  Dynamic scaling refers to the non-evolution of...   \n",
       "2  The triskeles symbol represents three interloc...   \n",
       "3  Regularizing the mass-energy of an electron wi...   \n",
       "4  The angular spacing of features in the diffrac...   \n",
       "\n",
       "                                                   E answer  \n",
       "0  MOND is a theory that eliminates the observed ...      D  \n",
       "1  Dynamic scaling refers to the evolution of sel...      A  \n",
       "2  The triskeles symbol is a representation of th...      A  \n",
       "3  Regularizing the mass-energy of an electron wi...      C  \n",
       "4  The angular spacing of features in the diffrac...      D  "
      ]
     },
     "execution_count": 6,
     "metadata": {},
     "output_type": "execute_result"
    }
   ],
   "source": [
    "train = pd.read_csv(data_dir / 'train.csv')\n",
    "train.head()"
   ]
  },
  {
   "cell_type": "code",
   "execution_count": 7,
   "metadata": {},
   "outputs": [
    {
     "data": {
      "text/plain": [
       "id                                                        0\n",
       "prompt    Which of the following statements accurately d...\n",
       "A         MOND is a theory that reduces the observed mis...\n",
       "B         MOND is a theory that increases the discrepanc...\n",
       "C         MOND is a theory that explains the missing bar...\n",
       "D         MOND is a theory that reduces the discrepancy ...\n",
       "E         MOND is a theory that eliminates the observed ...\n",
       "answer                                                    D\n",
       "Name: 0, dtype: object"
      ]
     },
     "execution_count": 7,
     "metadata": {},
     "output_type": "execute_result"
    }
   ],
   "source": [
    "row = train.iloc[0]\n",
    "row"
   ]
  },
  {
   "cell_type": "markdown",
   "metadata": {},
   "source": [
    "Experiment with a row and GPT-3.5"
   ]
  },
  {
   "cell_type": "code",
   "execution_count": 8,
   "metadata": {},
   "outputs": [
    {
     "name": "stdout",
     "output_type": "stream",
     "text": [
      "Answer the following multiple-choice question by providing the three most likely answers, in order or likelihood, specified by their letter followed by a space, e.g. A B C\n",
      "Question: Which of the following statements accurately describes the impact of Modified Newtonian Dynamics (MOND) on the observed \"missing baryonic mass\" discrepancy in galaxy clusters?\n",
      "A) MOND is a theory that reduces the observed missing baryonic mass in galaxy clusters by postulating the existence of a new form of matter called \"fuzzy dark matter.\"\n",
      "B) MOND is a theory that increases the discrepancy between the observed missing baryonic mass in galaxy clusters and the measured velocity dispersions from a factor of around 10 to a factor of about 20.\n",
      "C) MOND is a theory that explains the missing baryonic mass in galaxy clusters that was previously considered dark matter by demonstrating that the mass is in the form of neutrinos and axions.\n",
      "D) MOND is a theory that reduces the discrepancy between the observed missing baryonic mass in galaxy clusters and the measured velocity dispersions from a factor of around 10 to a factor of about 2.\n",
      "E) MOND is a theory that eliminates the observed missing baryonic mass in galaxy clusters by imposing a new mathematical formulation of gravity that does not require the existence of dark matter.\n",
      "\n",
      "Provide the answer in the form of the three letter choices only, without explanation, e.g. A D B\n",
      "\n"
     ]
    }
   ],
   "source": [
    "row = train.iloc[0]\n",
    "\n",
    "system_message = 'Answer the following multiple-choice question by providing the three most likely answers, in order or likelihood, specified by their letter followed by a space, e.g. A B C'\n",
    "user_message = f'Question: {row.prompt}\\n'\n",
    "user_message += '\\n'.join([f'{l}) {row[l]}' for l in 'ABCDE'])\n",
    "user_message += '\\n\\nProvide the answer in the form of the three letter choices only, without explanation, e.g. A D B\\n'\n",
    "print(system_message)\n",
    "print(user_message)\n"
   ]
  },
  {
   "cell_type": "markdown",
   "metadata": {},
   "source": [
    "## Get functions needed for API calling setup"
   ]
  },
  {
   "cell_type": "code",
   "execution_count": 42,
   "metadata": {},
   "outputs": [],
   "source": [
    "# GPT_MODEL='gpt-3.5-turbo-1106'\n",
    "# cost_prompt_tokens = 0.001 / 1000\n",
    "# cost_completion_tokens = 0.002 / 1000\n",
    "GPT_MODEL='gpt-4-1106-preview' # gpt-4 turbo preview\n",
    "cost_prompt_tokens = 0.01 / 1000\n",
    "cost_completion_tokens = 0.03 / 1000"
   ]
  },
  {
   "cell_type": "code",
   "execution_count": 9,
   "metadata": {},
   "outputs": [],
   "source": [
    "# prepare the messages array\n",
    "def create_messages_input(system_message, user_message, existing_messages=None) -> list:\n",
    "    \"\"\"\n",
    "    Create a list of messages for the OpenAI Chat Completions API.\n",
    "\n",
    "    :param system_message: A string containing the system message.\n",
    "    :param user_message: A string containing the user's message.\n",
    "    :param existing_messages: An optional list of existing messages to append to.\n",
    "    :return: A list of messages including the system message, any existing messages, and the new user message.\n",
    "    \"\"\"\n",
    "    messages = [None] if existing_messages is None else existing_messages\n",
    "    # Always start with the system message\n",
    "    messages[0] = {\"role\": \"system\", \"content\": system_message}\n",
    "    # Append the new user message\n",
    "    messages.append({\"role\": \"user\", \"content\": user_message})\n",
    "\n",
    "    return messages"
   ]
  },
  {
   "cell_type": "code",
   "execution_count": 11,
   "metadata": {},
   "outputs": [],
   "source": [
    "client = openai.OpenAI()\n",
    "# client = openai.AsyncClient()"
   ]
  },
  {
   "cell_type": "code",
   "execution_count": 43,
   "metadata": {},
   "outputs": [],
   "source": [
    "def get_chat_response(system_message, user_message, existing_messages=None, temperature=0.7, seed=None, verbose=False) -> ChatCompletion | None:\n",
    "    messages = create_messages_input(system_message, user_message, existing_messages)\n",
    "    response = None\n",
    "    try:\n",
    "        response = client.chat.completions.create(\n",
    "            model=GPT_MODEL,\n",
    "            messages=messages,\n",
    "            seed=seed,\n",
    "            max_tokens=1024,\n",
    "            temperature=temperature,\n",
    "        )\n",
    "\n",
    "        if response.choices[0].finish_reason == 'length':\n",
    "            warnings.warn('Warning: Reached max tokens')\n",
    "\n",
    "        if verbose:\n",
    "            response_content = response.choices[0].message.content\n",
    "            system_fingerprint = response.system_fingerprint\n",
    "            prompt_tokens = response.usage.prompt_tokens if response.usage else None\n",
    "            completion_tokens = response.usage.completion_tokens if response.usage else None\n",
    "\n",
    "            table = f\"\"\"\n",
    "            <table>\n",
    "            <tr><th>Response</th><td>{response_content}</td></tr>\n",
    "            <tr><th>System Fingerprint</th><td>{system_fingerprint}</td></tr>\n",
    "            <tr><th>Number of prompt tokens</th><td>{prompt_tokens}</td></tr>\n",
    "            <tr><th>Number of completion tokens</th><td>{completion_tokens}</td></tr>\n",
    "            </table>\n",
    "            \"\"\"\n",
    "            display(HTML(table))\n",
    "\n",
    "    except Exception as e:\n",
    "        print(f'An error occurred: {e}')\n",
    "        # return None\n",
    "        return response\n",
    "    return response"
   ]
  },
  {
   "cell_type": "code",
   "execution_count": 52,
   "metadata": {},
   "outputs": [
    {
     "data": {
      "text/html": [
       "\n",
       "            <table>\n",
       "            <tr><th>Response</th><td>In the year 2150, Earth had become a place where technology and humanity intertwined in ways previously unimaginable. The rise of artificial intelligence had led to the creation of lifelike androids, known as replicants, that were virtually indistinguishable from humans. However, as their presence grew, so did the fear of their potential to rebel against their creators.\n",
       "\n",
       "Enter Jax, a seasoned bladerunner, tasked with tracking down and \"retiring\" rogue replicants. Jax had seen it all, from the most cunning and deceptive models to the most violent and ruthless. His job was dangerous, but he was the best at what he did.\n",
       "\n",
       "One day, Jax was given a new assignment: to track down a group of replicants who had escaped from a high-security facility. These replicants were different, though. They were designed to be stronger, faster, and more intelligent than any before them. As Jax delved deeper into the case, he began to question the morality of his mission. Were these replicants truly dangerous, or were they simply fighting for their own freedom?\n",
       "\n",
       "As Jax pursued the fugitive replicants across the city, he found himself forming an unexpected bond with them. They were not the mindless machines he had been led to believe. They had hopes, dreams, and desires just like humans. Jax began to see them as more than just targets to be eliminated.\n",
       "\n",
       "In a dramatic showdown, Jax confronted the replicants, but instead of carrying out his mission, he chose to stand with them. Together, they worked to expose the corrupt practices of the corporation that had created them, and in doing so, they sparked a revolution that would change the course of history for both humans and replicants alike.\n",
       "\n",
       "Jax became a symbol of hope for a new era of coexistence between humans and their creations, and his actions paved the way for a future where understanding and compassion triumphed over fear and prejudice. And as the sun set on the city, Jax knew that he had played a pivotal role in shaping the destiny of his world.</td></tr>\n",
       "            <tr><th>System Fingerprint</th><td>fp_eeff13170a</td></tr>\n",
       "            <tr><th>Number of prompt tokens</th><td>32</td></tr>\n",
       "            <tr><th>Number of completion tokens</th><td>422</td></tr>\n",
       "            </table>\n",
       "            "
      ],
      "text/plain": [
       "<IPython.core.display.HTML object>"
      ]
     },
     "metadata": {},
     "output_type": "display_data"
    },
    {
     "data": {
      "text/plain": [
       "ChatCompletion(id='chatcmpl-8ONkPVqp0ellKDoekaHro8rBQ4YM4', choices=[Choice(finish_reason='stop', index=0, message=ChatCompletionMessage(content='In the year 2150, Earth had become a place where technology and humanity intertwined in ways previously unimaginable. The rise of artificial intelligence had led to the creation of lifelike androids, known as replicants, that were virtually indistinguishable from humans. However, as their presence grew, so did the fear of their potential to rebel against their creators.\\n\\nEnter Jax, a seasoned bladerunner, tasked with tracking down and \"retiring\" rogue replicants. Jax had seen it all, from the most cunning and deceptive models to the most violent and ruthless. His job was dangerous, but he was the best at what he did.\\n\\nOne day, Jax was given a new assignment: to track down a group of replicants who had escaped from a high-security facility. These replicants were different, though. They were designed to be stronger, faster, and more intelligent than any before them. As Jax delved deeper into the case, he began to question the morality of his mission. Were these replicants truly dangerous, or were they simply fighting for their own freedom?\\n\\nAs Jax pursued the fugitive replicants across the city, he found himself forming an unexpected bond with them. They were not the mindless machines he had been led to believe. They had hopes, dreams, and desires just like humans. Jax began to see them as more than just targets to be eliminated.\\n\\nIn a dramatic showdown, Jax confronted the replicants, but instead of carrying out his mission, he chose to stand with them. Together, they worked to expose the corrupt practices of the corporation that had created them, and in doing so, they sparked a revolution that would change the course of history for both humans and replicants alike.\\n\\nJax became a symbol of hope for a new era of coexistence between humans and their creations, and his actions paved the way for a future where understanding and compassion triumphed over fear and prejudice. And as the sun set on the city, Jax knew that he had played a pivotal role in shaping the destiny of his world.', role='assistant', function_call=None, tool_calls=None))], created=1700821849, model='gpt-3.5-turbo-1106', object='chat.completion', system_fingerprint='fp_eeff13170a', usage=CompletionUsage(completion_tokens=422, prompt_tokens=32, total_tokens=454))"
      ]
     },
     "execution_count": 52,
     "metadata": {},
     "output_type": "execute_result"
    }
   ],
   "source": [
    "# TODO use JSON return in a useful format https://platform.openai.com/docs/guides/text-generation/json-mode\n",
    "system_messaage = 'You are a helpful assistant that generates short stories about science fiction.'\n",
    "user_message = 'Generate a story about a bladerunner'\n",
    "response = get_chat_response(system_messaage, user_message)\n",
    "response"
   ]
  },
  {
   "cell_type": "markdown",
   "metadata": {},
   "source": [
    "Test individually some questions to get a feel for the results"
   ]
  },
  {
   "cell_type": "code",
   "execution_count": 13,
   "metadata": {},
   "outputs": [
    {
     "name": "stdout",
     "output_type": "stream",
     "text": [
      "Answer the following multiple-choice question by providing the three most likely answers, in order or likelihood, specified by their letter followed by a space, e.g. A B C\n",
      "Question: Which of the following statements accurately describes the impact of Modified Newtonian Dynamics (MOND) on the observed \"missing baryonic mass\" discrepancy in galaxy clusters?\n",
      "A) MOND is a theory that reduces the observed missing baryonic mass in galaxy clusters by postulating the existence of a new form of matter called \"fuzzy dark matter.\"\n",
      "B) MOND is a theory that increases the discrepancy between the observed missing baryonic mass in galaxy clusters and the measured velocity dispersions from a factor of around 10 to a factor of about 20.\n",
      "C) MOND is a theory that explains the missing baryonic mass in galaxy clusters that was previously considered dark matter by demonstrating that the mass is in the form of neutrinos and axions.\n",
      "D) MOND is a theory that reduces the discrepancy between the observed missing baryonic mass in galaxy clusters and the measured velocity dispersions from a factor of around 10 to a factor of about 2.\n",
      "E) MOND is a theory that eliminates the observed missing baryonic mass in galaxy clusters by imposing a new mathematical formulation of gravity that does not require the existence of dark matter.\n",
      "\n",
      "Provide the answer in the form of the three letter choices only, without explanation, e.g. A D B\n",
      "\n"
     ]
    }
   ],
   "source": [
    "row = train.iloc[0]\n",
    "\n",
    "system_message = 'Answer the following multiple-choice question by providing the three most likely answers, in order or likelihood, specified by their letter followed by a space, e.g. A B C'\n",
    "user_message = f'Question: {row.prompt}\\n'\n",
    "user_message += '\\n'.join([f'{l}) {row[l]}' for l in 'ABCDE'])\n",
    "user_message += '\\n\\nProvide the answer in the form of the three letter choices only, without explanation, e.g. A D B\\n'\n",
    "print(system_message)\n",
    "print(user_message)\n"
   ]
  },
  {
   "cell_type": "code",
   "execution_count": 32,
   "metadata": {},
   "outputs": [
    {
     "data": {
      "text/html": [
       "\n",
       "        <table>\n",
       "        <tr><th>Response</th><td>B D E</td></tr>\n",
       "        <tr><th>System Fingerprint</th><td>fp_eeff13170a</td></tr>\n",
       "        <tr><th>Number of prompt tokens</th><td>303</td></tr>\n",
       "        <tr><th>Number of completion tokens</th><td>3</td></tr>\n",
       "        </table>\n",
       "        "
      ],
      "text/plain": [
       "<IPython.core.display.HTML object>"
      ]
     },
     "metadata": {},
     "output_type": "display_data"
    }
   ],
   "source": [
    "response = get_chat_response(system_message, user_message)"
   ]
  },
  {
   "cell_type": "code",
   "execution_count": 36,
   "metadata": {},
   "outputs": [
    {
     "name": "stdout",
     "output_type": "stream",
     "text": [
      "Question: Which of the following statements accurately describes the impact of Modified Newtonian Dynamics (MOND) on the observed \"missing baryonic mass\" discrepancy in galaxy clusters?\n",
      "A) MOND is a theory that reduces the observed missing baryonic mass in galaxy clusters by postulating the existence of a new form of matter called \"fuzzy dark matter.\"\n",
      "B) MOND is a theory that increases the discrepancy between the observed missing baryonic mass in galaxy clusters and the measured velocity dispersions from a factor of around 10 to a factor of about 20.\n",
      "C) MOND is a theory that explains the missing baryonic mass in galaxy clusters that was previously considered dark matter by demonstrating that the mass is in the form of neutrinos and axions.\n",
      "D) MOND is a theory that reduces the discrepancy between the observed missing baryonic mass in galaxy clusters and the measured velocity dispersions from a factor of around 10 to a factor of about 2.\n",
      "E) MOND is a theory that eliminates the observed missing baryonic mass in galaxy clusters by imposing a new mathematical formulation of gravity that does not require the existence of dark matter.\n",
      "\n",
      "Provide the answer in the form of the three letter choices only, without explanation, e.g. A D B\n",
      "\n",
      "B D E\n",
      "Answer:  D\n"
     ]
    }
   ],
   "source": [
    "print(user_message)\n",
    "print(response.choices[0].message.content)\n",
    "print('Answer: ', row.answer)"
   ]
  },
  {
   "cell_type": "markdown",
   "metadata": {},
   "source": [
    "Get result over questions"
   ]
  },
  {
   "cell_type": "code",
   "execution_count": 44,
   "metadata": {},
   "outputs": [
    {
     "data": {
      "text/html": [
       "\n",
       "            <table>\n",
       "            <tr><th>Response</th><td>D E B</td></tr>\n",
       "            <tr><th>System Fingerprint</th><td>fp_a24b4d720c</td></tr>\n",
       "            <tr><th>Number of prompt tokens</th><td>303</td></tr>\n",
       "            <tr><th>Number of completion tokens</th><td>3</td></tr>\n",
       "            </table>\n",
       "            "
      ],
      "text/plain": [
       "<IPython.core.display.HTML object>"
      ]
     },
     "metadata": {},
     "output_type": "display_data"
    },
    {
     "name": "stdout",
     "output_type": "stream",
     "text": [
      "User Message: Question: Which of the following statements accurately describes the impact of Modified Newtonian Dynamics (MOND) on the observed \"missing baryonic mass\" discrepancy in galaxy clusters?\n",
      "A) MOND is a theory that reduces the observed missing baryonic mass in galaxy clusters by postulating the existence of a new form of matter called \"fuzzy dark matter.\"\n",
      "B) MOND is a theory that increases the discrepancy between the observed missing baryonic mass in galaxy clusters and the measured velocity dispersions from a factor of around 10 to a factor of about 20.\n",
      "C) MOND is a theory that explains the missing baryonic mass in galaxy clusters that was previously considered dark matter by demonstrating that the mass is in the form of neutrinos and axions.\n",
      "D) MOND is a theory that reduces the discrepancy between the observed missing baryonic mass in galaxy clusters and the measured velocity dispersions from a factor of around 10 to a factor of about 2.\n",
      "E) MOND is a theory that eliminates the observed missing baryonic mass in galaxy clusters by imposing a new mathematical formulation of gravity that does not require the existence of dark matter.\n",
      "\n",
      "Provide the answer in the form of the three letter choices only, without explanation, e.g. A D B\n",
      "\n",
      "Response: D E B\n",
      "Answer: D\n",
      "---\n"
     ]
    },
    {
     "data": {
      "text/html": [
       "\n",
       "            <table>\n",
       "            <tr><th>Response</th><td>A B E</td></tr>\n",
       "            <tr><th>System Fingerprint</th><td>fp_a24b4d720c</td></tr>\n",
       "            <tr><th>Number of prompt tokens</th><td>352</td></tr>\n",
       "            <tr><th>Number of completion tokens</th><td>3</td></tr>\n",
       "            </table>\n",
       "            "
      ],
      "text/plain": [
       "<IPython.core.display.HTML object>"
      ]
     },
     "metadata": {},
     "output_type": "display_data"
    },
    {
     "name": "stdout",
     "output_type": "stream",
     "text": [
      "User Message: Question: Which of the following is an accurate definition of dynamic scaling in self-similar systems?\n",
      "A) Dynamic scaling refers to the evolution of self-similar systems, where data obtained from snapshots at fixed times exhibits similarity to the respective data taken from snapshots of any earlier or later time. This similarity is tested by a certain time-dependent stochastic variable x.\n",
      "B) Dynamic scaling refers to the non-evolution of self-similar systems, where data obtained from snapshots at fixed times is similar to the respective data taken from snapshots of any earlier or later time. This similarity is tested by a certain time-dependent stochastic variable x.\n",
      "C) Dynamic scaling refers to the evolution of self-similar systems, where data obtained from snapshots at fixed times is dissimilar to the respective data taken from snapshots of any earlier or later time. This dissimilarity is tested by a certain time-independent stochastic variable y.\n",
      "D) Dynamic scaling refers to the non-evolution of self-similar systems, where data obtained from snapshots at fixed times is dissimilar to the respective data taken from snapshots of any earlier or later time. This dissimilarity is tested by a certain time-independent stochastic variable y.\n",
      "E) Dynamic scaling refers to the evolution of self-similar systems, where data obtained from snapshots at fixed times is independent of the respective data taken from snapshots of any earlier or later time. This independence is tested by a certain time-dependent stochastic variable z.\n",
      "\n",
      "Provide the answer in the form of the three letter choices only, without explanation, e.g. A D B\n",
      "\n",
      "Response: A B E\n",
      "Answer: A\n",
      "---\n"
     ]
    },
    {
     "data": {
      "text/html": [
       "\n",
       "            <table>\n",
       "            <tr><th>Response</th><td>A B D</td></tr>\n",
       "            <tr><th>System Fingerprint</th><td>fp_a24b4d720c</td></tr>\n",
       "            <tr><th>Number of prompt tokens</th><td>476</td></tr>\n",
       "            <tr><th>Number of completion tokens</th><td>3</td></tr>\n",
       "            </table>\n",
       "            "
      ],
      "text/plain": [
       "<IPython.core.display.HTML object>"
      ]
     },
     "metadata": {},
     "output_type": "display_data"
    },
    {
     "name": "stdout",
     "output_type": "stream",
     "text": [
      "User Message: Question: Which of the following statements accurately describes the origin and significance of the triskeles symbol?\n",
      "A) The triskeles symbol was reconstructed as a feminine divine triad by the rulers of Syracuse, and later adopted as an emblem. Its usage may also be related to the Greek name of Sicily, Trinacria, which means \"having three headlands.\" The head of Medusa at the center of the Sicilian triskeles represents the three headlands.\n",
      "B) The triskeles symbol is a representation of three interlinked spirals, which was adopted as an emblem by the rulers of Syracuse. Its usage in modern flags of Sicily has its origins in the ancient Greek name for the island, Trinacria, which means \"Sicily with three corners.\" The head of Medusa at the center is a representation of the island's rich cultural heritage.\n",
      "C) The triskeles symbol is a representation of a triple goddess, reconstructed by the rulers of Syracuse, who adopted it as an emblem. Its significance lies in the fact that it represents the Greek name for Sicily, Trinacria, which contains the element \"tria,\" meaning three. The head of Medusa at the center of the Sicilian triskeles represents the three headlands.\n",
      "D) The triskeles symbol represents three interlocked spiral arms, which became an emblem for the rulers of Syracuse. Its usage in modern flags of Sicily is due to the island's rich cultural heritage, which dates back to ancient times. The head of Medusa at the center represents the lasting influence of Greek mythology on Sicilian culture.\n",
      "E) The triskeles symbol is a representation of the Greek goddess Hecate, reconstructed by the rulers of Syracuse. Its adoption as an emblem was due to its cultural significance, as it represented the ancient Greek name for Sicily, Trinacria. The head of Medusa at the center of the Sicilian triskeles represents the island's central location in the Mediterranean.\n",
      "\n",
      "Provide the answer in the form of the three letter choices only, without explanation, e.g. A D B\n",
      "\n",
      "Response: A B D\n",
      "Answer: A\n",
      "---\n"
     ]
    },
    {
     "data": {
      "text/html": [
       "\n",
       "            <table>\n",
       "            <tr><th>Response</th><td>A C D</td></tr>\n",
       "            <tr><th>System Fingerprint</th><td>fp_a24b4d720c</td></tr>\n",
       "            <tr><th>Number of prompt tokens</th><td>302</td></tr>\n",
       "            <tr><th>Number of completion tokens</th><td>3</td></tr>\n",
       "            </table>\n",
       "            "
      ],
      "text/plain": [
       "<IPython.core.display.HTML object>"
      ]
     },
     "metadata": {},
     "output_type": "display_data"
    },
    {
     "name": "stdout",
     "output_type": "stream",
     "text": [
      "User Message: Question: What is the significance of regularization in terms of renormalization problems in physics?\n",
      "A) Regularizing the mass-energy of an electron with a finite radius can theoretically simplify calculations involving infinities or singularities, thereby providing explanations that would otherwise be impossible to achieve.\n",
      "B) Regularizing the mass-energy of an electron with an infinite radius allows for the breakdown of a theory that is valid under one set of conditions. This approach can be applied to other renormalization problems as well.\n",
      "C) Regularizing the mass-energy of an electron with a finite radius is a means of demonstrating that a system below a certain size can be explained without the need for further calculations. This approach can be applied to other renormalization problems as well.\n",
      "D) Regularizing the mass-energy of an electron with an infinite radius can be used to provide a highly accurate description of a system under specific conditions. This approach can be transferred to other renormalization problems as well.\n",
      "E) Regularizing the mass-energy of an electron with an infinite radius is essential for explaining how a system below a certain size operates. This approach can be applied to other renormalization problems as well.\n",
      "\n",
      "Provide the answer in the form of the three letter choices only, without explanation, e.g. A D B\n",
      "\n",
      "Response: A C D\n",
      "Answer: C\n",
      "---\n",
      "Average score: 0.8875\n",
      "Cost: $0.53249, prompt_tokens=51449, completion_tokens=600\n"
     ]
    }
   ],
   "source": [
    "system_message = 'Answer the following multiple-choice question by providing the three most likely answers, in order or likelihood, specified by their letter followed by a space, e.g. A B C'\n",
    "verbose = True\n",
    "score = 0\n",
    "n_questions = 200\n",
    "prompt_tokens = completion_tokens = 0\n",
    "temperature = 0.0\n",
    "\n",
    "for index, row in train.head(n_questions).iterrows():\n",
    "    user_message = f'Question: {row.prompt}\\n'\n",
    "    user_message += '\\n'.join([f'{l}) {row[l]}' for l in 'ABCDE'])\n",
    "    user_message += '\\n\\nProvide the answer in the form of the three letter choices only, without explanation, e.g. A D B\\n'\n",
    "\n",
    "    response = get_chat_response(system_message, user_message, verbose=verbose, temperature=temperature)\n",
    "\n",
    "    assistant_message = response.choices[0].message.content\n",
    "\n",
    "    if verbose:\n",
    "        print(f'User Message: {user_message}')\n",
    "        print(f'Response: {assistant_message}')\n",
    "        print(f'Answer: {row.answer}')\n",
    "        print('---')\n",
    "\n",
    "    # Score\n",
    "    answers = assistant_message.split(' ')[:3]\n",
    "    correct_answer = row.answer\n",
    "    for i, pred in enumerate(answers):\n",
    "        if pred == correct_answer:\n",
    "            score += 1 / (i + 1)  # 1 for first being correct, 1/2 for second, 1/3 for third\n",
    "\n",
    "    prompt_tokens += response.usage.prompt_tokens\n",
    "    completion_tokens += response.usage.completion_tokens\n",
    "\n",
    "    if index >= 3:\n",
    "        verbose = False\n",
    "\n",
    "\n",
    "total_cost = prompt_tokens * cost_prompt_tokens + completion_tokens * cost_completion_tokens\n",
    "print(f'Average score: {score / n_questions}')\n",
    "print(f'Cost: ${total_cost}, prompt_tokens={prompt_tokens}, completion_tokens={completion_tokens}')"
   ]
  },
  {
   "cell_type": "markdown",
   "metadata": {},
   "source": [
    "### Use function calling interface to get more structured output\n",
    "(could also just use the new response_format='json')"
   ]
  },
  {
   "cell_type": "code",
   "execution_count": 86,
   "metadata": {},
   "outputs": [
    {
     "name": "stdout",
     "output_type": "stream",
     "text": [
      "{\"answer\":{\"answer\":[\"A\",\"B\",\"C\"]},\"reasoning\":\"Because I said so\"}\n"
     ]
    },
    {
     "data": {
      "text/plain": [
       "AnswerQuestionResponse(answer=<class '__main__.Answer'>, reasoning='Because I said so')"
      ]
     },
     "execution_count": 86,
     "metadata": {},
     "output_type": "execute_result"
    }
   ],
   "source": [
    "from pydantic import BaseModel, Field\n",
    "\n",
    "class Answer(BaseModel):\n",
    "    answer: list[str] = Field(str, min_length=3, max_length=3)\n",
    "\n",
    "class AnswerQuestion(BaseModel):\n",
    "    question: str = Field(str, description='The question to answer')\n",
    "    choices: list[str] = Field(str, description='The choices to choose from')\n",
    "    answer: Answer = Field(Answer, description='The answer to the question')\n",
    "\n",
    "class AnswerQuestionResponse(BaseModel):\n",
    "    answer: Answer = Field(Answer, description='The answer to the question')\n",
    "    reasoning: str = Field(str, description='The reasoning for the answer')\n",
    "\n",
    "aqr = AnswerQuestionResponse(answer=Answer(answer=['A', 'B', 'C']), reasoning='Because I said so')\n",
    "print(aqr.model_dump_json())\n",
    "AnswerQuestionResponse.model_validate_json(aqr.model_dump_json())\n",
    "AnswerQuestionResponse.model_validate_json('{\"answer_question_response\": {\"answer\": [\"A\", \"B\", \"C\"]}, \"reasoning\": \"Because I said so\"}')"
   ]
  },
  {
   "cell_type": "code",
   "execution_count": 48,
   "metadata": {},
   "outputs": [],
   "source": [
    "def answer_question(answer: str, reasoning: str):\n",
    "    table = f\"\"\"\n",
    "    <table>\n",
    "    <tr><th>Answer</th><td>{answer}</td></tr>\n",
    "    <tr><th>Reasoning</th><td>{reasoning}</td></tr>\n",
    "    </table>\n",
    "    \"\"\"\n",
    "    display(HTML(table))\n",
    "    return answer, reasoning\n",
    "\n",
    "def get_function_call_arguments(system_messaage, user_message, verbose=False, temperature=0.7, seed=None):\n",
    "    messages = create_messages_input(system_messaage, user_message)\n",
    "\n",
    "    tools = [\n",
    "        {\n",
    "            \"type\": \"function\",\n",
    "            \"function\": {\n",
    "                \"name\": \"answer_question\",\n",
    "                \"description\": \"Answers the provided question\",\n",
    "                \"parameters\": {\n",
    "                    \"type\": \"object\",\n",
    "                    \"properties\": {\n",
    "                        \"reasoning\": {\n",
    "                            \"type\": \"string\",\n",
    "                            \"description\": \"Reasining for what the answer could be. Keep it short.\"\n",
    "                        },\n",
    "                        \"answers\": {\n",
    "                            \"type\": \"array\",\n",
    "                            \"items\": {\n",
    "                                \"type\": \"string\",\n",
    "                                \"enum\": [\"A\", \"B\", \"C\", \"D\", \"E\"],\n",
    "                            },\n",
    "                            \"description\": \"Your top 3 guesses, from most to least likely. e.g. ['A', 'D', 'C']\"\n",
    "                        }\n",
    "                    },\n",
    "                    \"required\": [\"reasoning\", \"answers\"],\n",
    "                },\n",
    "            }\n",
    "        }\n",
    "    ]\n",
    "\n",
    "    answers_reasoning = []\n",
    "    response = None\n",
    "    try:\n",
    "        response = client.chat.completions.create(\n",
    "            model=GPT_MODEL,\n",
    "            messages=messages,\n",
    "            seed=seed,\n",
    "            max_tokens=1024,\n",
    "            temperature=temperature,\n",
    "            tools=tools,\n",
    "            tool_choice={\"type\": \"function\", \"function\": {\"name\": \"answer_question\"}})\n",
    "        response_message = response.choices[0].message\n",
    "        tool_calls = response_message.tool_calls\n",
    "\n",
    "        if not tool_calls or len(tool_calls) > 1:\n",
    "            raise Exception(f'Expected exactly one tool call but got {0 if not tools_calls else len(tool_calls)}')\n",
    "\n",
    "        for tool_call in tool_calls:\n",
    "            if tool_call.function.name == 'answer_question':\n",
    "                function_args = json.loads(tool_call.function.arguments)\n",
    "                answers_reasoning.append(function_args)\n",
    "\n",
    "        if response.choices[0].finish_reason == 'length':\n",
    "            warnings.warn('Warning: Reached max tokens')\n",
    "\n",
    "        if verbose:\n",
    "            response_content = response.choices[0].message.content\n",
    "            system_fingerprint = response.system_fingerprint\n",
    "            prompt_tokens = response.usage.prompt_tokens if response.usage else None\n",
    "            completion_tokens = response.usage.completion_tokens if response.usage else None\n",
    "\n",
    "            table = f\"\"\"\n",
    "            <table>\n",
    "            <tr><th>Response</th><td>{response_content}</td></tr>\n",
    "            <tr><th>System Fingerprint</th><td>{system_fingerprint}</td></tr>\n",
    "            <tr><th>Number of prompt tokens</th><td>{prompt_tokens}</td></tr>\n",
    "            <tr><th>Number of completion tokens</th><td>{completion_tokens}</td></tr>\n",
    "            </table>\n",
    "            \"\"\"\n",
    "            display(HTML(table))\n",
    "    except Exception as e:\n",
    "        print(f'An error occurred: {e}')\n",
    "        print(messages)\n",
    "        print(response)\n",
    "        # return None\n",
    "    return answers_reasoning"
   ]
  },
  {
   "cell_type": "code",
   "execution_count": 51,
   "metadata": {},
   "outputs": [
    {
     "data": {
      "text/html": [
       "\n",
       "            <table>\n",
       "            <tr><th>Response</th><td>None</td></tr>\n",
       "            <tr><th>System Fingerprint</th><td>fp_a24b4d720c</td></tr>\n",
       "            <tr><th>Number of prompt tokens</th><td>313</td></tr>\n",
       "            <tr><th>Number of completion tokens</th><td>117</td></tr>\n",
       "            </table>\n",
       "            "
      ],
      "text/plain": [
       "<IPython.core.display.HTML object>"
      ]
     },
     "metadata": {},
     "output_type": "display_data"
    },
    {
     "name": "stdout",
     "output_type": "stream",
     "text": [
      "Predicted answer:  ['D', 'E', 'C']\n",
      "Predicted reasoning:  Planetary systems are often categorized based on their orbital dynamics to understand the interactions between the planets and the stability of the system. Categories such as resonant, non-resonant-interacting, and hierarchical are common, and a system may exhibit characteristics of more than one category. The categorization is not based solely on the number of planets, nor are the categories limited to just resonant or hierarchical. The statement that planetary systems cannot be categorized based on their orbital dynamics is false.\n",
      "Answer:  D\n"
     ]
    }
   ],
   "source": [
    "row = train.iloc[20]\n",
    "system_message = 'Answer the following multiple-choice question by providing the three most likely answers, in order or likelihood, specified by their letter followed by a space, e.g. A B C'\n",
    "user_message = f'Question: {row.prompt}\\n'\n",
    "user_message += '\\n'.join([f'{l}) {row[l]}' for l in 'ABCDE'])\n",
    "user_message += '\\n\\nProvide the answer in the form of the three letter choices only, without explanation, e.g. A D B\\n'\n",
    "\n",
    "answers_reasoning = get_function_call_arguments(system_message, user_message, temperature=0.7, seed=42, verbose=True)\n",
    "\n",
    "print('Predicted answer: ', answers_reasoning[0]['answers'])\n",
    "print('Predicted reasoning: ', answers_reasoning[0]['reasoning'])\n",
    "print('Answer: ', row.answer)"
   ]
  },
  {
   "cell_type": "markdown",
   "metadata": {},
   "source": [
    "Test again on just the first fows of the training dataset"
   ]
  },
  {
   "cell_type": "code",
   "execution_count": 47,
   "metadata": {},
   "outputs": [
    {
     "name": "stdout",
     "output_type": "stream",
     "text": [
      "0\n",
      "Which of the following statements accurately describes the impact of Modified Newtonian Dynamics (MOND) on the observed \"missing baryonic mass\" discrepancy in galaxy clusters?\n",
      "D\n",
      "['E', 'D', 'B']\n",
      "MOND (Modified Newtonian Dynamics) is a theory that proposes a modification to Newton's laws of gravity to explain the rotation curves of galaxies without invoking dark matter. It does not postulate new forms of matter like 'fuzzy dark matter' or neutrinos and axions as the missing mass. Instead, it modifies the gravitational force law at low accelerations to account for the observed dynamics. Therefore, it aims to reduce or eliminate the need for dark matter in explaining galactic rotation curves and the missing baryonic mass discrepancy.\n",
      "---\n",
      "1\n",
      "Which of the following is an accurate definition of dynamic scaling in self-similar systems?\n",
      "A\n",
      "['A', 'E', 'B']\n",
      "Dynamic scaling in self-similar systems refers to the property where the system evolves over time, but the statistical properties at different times can be related by scaling laws. This means that the system maintains its self-similarity over time, and this is typically characterized by a time-dependent variable.\n",
      "---\n",
      "2\n",
      "Which of the following statements accurately describes the origin and significance of the triskeles symbol?\n",
      "A\n",
      "['A', 'B', 'D']\n",
      "The triskeles symbol is associated with Sicily and features three bent human legs, often accompanied by the head of Medusa at the center. It is related to the ancient Greek name for Sicily, Trinacria, which means \"having three headlands\" or \"three promontories.\" The symbol was adopted by the rulers of Syracuse and is a prominent feature on the flag of Sicily. The symbol does not specifically represent a triple goddess or the Greek goddess Hecate, and while it is connected to Greek mythology, the most direct association is with the geographical shape of Sicily.\n",
      "---\n",
      "3\n",
      "What is the significance of regularization in terms of renormalization problems in physics?\n",
      "C\n",
      "['A', 'C', 'D']\n",
      "Regularization in physics is a mathematical process used to make sense of infinite or undefined quantities by introducing a cutoff or modifying the theory at small scales. It is a key step in the renormalization process, which allows for the removal of these infinities in a consistent way to make physical predictions. Regularization typically involves considering a finite size or scale, rather than an infinite one, to avoid singularities.\n",
      "---\n",
      "4\n",
      "Which of the following statements accurately describes the relationship between the dimensions of a diffracting object and the angular spacing of features in the diffraction pattern?\n",
      "D\n",
      "['D', 'A', 'E']\n",
      "The angular spacing of features in a diffraction pattern is inversely proportional to the dimensions of the diffracting object according to the principles of wave optics. A smaller object will cause a wider diffraction pattern, not a narrower one.\n",
      "---\n",
      "5\n",
      "Which of the following statements accurately depicts the relationship between Gauss's law, electric flux, electric field, and symmetry in electric fields?\n",
      "B\n",
      "['E', 'C', 'B']\n",
      "Gauss's law is a general law that applies to all electric fields, but it is most useful for symmetric fields such as spherical or cylindrical symmetry because it simplifies the calculation of electric flux. Electric flux is only affected by charges enclosed within the surface, not by external charges. The unit of electric flux in SI base units is kg*m^3/s^3*A^-1, which corresponds to N*m^2/C, as electric flux is the product of electric field (N/C) and area (m^2).\n",
      "---\n",
      "6\n",
      "Which of the following statements accurately describes the dimension of an object in a CW complex?\n",
      "A\n",
      "['A', 'C', 'D']\n",
      "The dimension of an object in a CW complex is defined by the highest-dimensional cells that it contains. The n-skeleton of a CW complex consists of all cells of dimension n or less. The empty set is considered to have dimension -1 because it contains no cells. The boundary of a discrete set of points (0-cells) is the empty set, which has dimension -1. Critical points, singularities, and counting the number of cells are not standard methods for defining the dimension of an object in a CW complex.\n",
      "---\n",
      "7\n",
      "Which of the following statements accurately describes the blocking temperature of an antiferromagnetic layer in a spin valve?\n",
      "D\n",
      "['D', 'B', 'A']\n",
      "The blocking temperature in the context of a spin valve refers to the temperature below which an antiferromagnetic layer can effectively pin the magnetization direction of an adjacent ferromagnetic layer. Above this temperature, the antiferromagnetic layer loses its pinning ability. The blocking temperature is typically lower than the N\\u00e9el temperature, which is the temperature at which an antiferromagnetic material transitions to a paramagnetic state. Therefore, the statements that describe the blocking temperature as being lower than the N\\u00e9el temperature and related to the pinning ability of the antiferromagnetic layer are likely to be correct.\n",
      "---\n",
      "8\n",
      "What is the term used in astrophysics to describe light-matter interactions resulting in energy shifts in the radiation field?\n",
      "C\n",
      "['B', 'A', 'C']\n",
      "In astrophysics, the term used to describe light-matter interactions that result in energy shifts in the radiation field is typically associated with the Doppler effect, where light from an object moving away from the observer is shifted to longer wavelengths (redshift), and light from an object moving towards the observer is shifted to shorter wavelengths (blueshift). Reddening can also refer to the process by which dust scatters blue light more than red light, making the object appear redder. Whitening and yellowing are not standard terms used in astrophysics for this phenomenon.\n",
      "---\n",
      "9\n",
      "What is the role of axioms in a formal theory?\n",
      "A\n",
      "['A', 'B', 'E']\n",
      "Axioms are fundamental statements or propositions that are assumed to be true without proof and serve as the starting point for deducing other truths within a formal system. They are not redundant (C), used for experimental validation (D), or added to prove the truth of derived statements (E). Instead, they are the foundational elements (A) from which theorems are derived using logical deduction.\n",
      "---\n",
      "10\n",
      "What did Fresnel predict and verify with regards to total internal reflections?\n",
      "E\n",
      "['E', 'D', 'A']\n",
      "Fresnel's work on optics was pioneering, and his studies on total internal reflection are well-documented. The most likely scenario he would have predicted and verified would involve a specific angle and a mix of media (water and air) to achieve a particular type of polarization. The options that mention a mix of media and specific angles are more likely to be correct. Options that mention all wet or all dry surfaces are less likely to be what Fresnel focused on, as the phenomenon of total internal reflection and its effects on polarization are more nuanced than that.\n",
      "---\n",
      "11\n",
      "What is the relationship between the Wigner function and the density matrix operator?\n",
      "A\n",
      "['A', 'D', 'B']\n",
      "The Wigner function is a quasi-probability distribution function that helps to map quantum mechanical objects into phase space. It is related to the density matrix operator through the Wigner transform. The Wigner function is not a derivative, source function, or time derivative of the density matrix operator, nor does it represent the Hamiltonian.\n",
      "---\n",
      "12\n",
      "What is one of the examples of the models proposed by cosmologists and theoretical physicists without the cosmological or Copernican principles that can be used to address specific issues in the Lambda-CDM model and distinguish between current models and other possible models?\n",
      "C\n",
      "['C', 'E', 'B']\n",
      "The question asks for a model that does not adhere to the cosmological or Copernican principles and can address issues in the Lambda-CDM model. The Copernican principle (A and D) and the cosmological principle (B) both assume homogeneity and isotropy, which are not being questioned here. The principle of dark energy (E) is already a part of the Lambda-CDM model. The inhomogeneous cosmology (C) is the only option that proposes a different structure of the universe without relying on dark energy and challenges the Copernican principle.\n",
      "---\n",
      "13\n",
      "What is the Roche limit?\n",
      "D\n",
      "['E', 'D', 'A']\n",
      "The Roche limit refers to the minimum distance to which a celestial body, such as a satellite or a moon, can approach a planet or other larger body without being pulled apart by the planet's gravitational field. This is due to the differential gravitational forces acting on the object, where the side closer to the planet experiences a stronger pull than the side farther away, potentially leading to disintegration if the body's own gravitational cohesion is weaker than these tidal forces.\n",
      "---\n",
      "14\n",
      "What is Martin Heidegger's view on the relationship between time and human existence?\n",
      "B\n",
      "['B', 'A', 'D']\n",
      "Martin Heidegger's philosophy, particularly in 'Being and Time', emphasizes the concept of Dasein, which is a being that is aware of and must confront its own existence, including its temporality. Heidegger sees time as a fundamental aspect of human existence, where the past is not just a series of events that have happened, but rather something that Dasein carries with it. The future is not just what will happen, but what a person is projecting themselves towards. Heidegger's view is existential and phenomenological, not metaphysical or cyclical.\n",
      "---\n",
      "15\n",
      "What is the \"ultraviolet catastrophe\"?\n",
      "B\n",
      "['B', 'D', 'E']\n",
      "The 'ultraviolet catastrophe' refers to the prediction of classical physics (specifically, the Rayleigh-Jeans law) that an ideal black body at thermal equilibrium will emit radiation with infinite power as the frequency increases, which is clearly not physically realistic. This problem arises specifically at higher frequencies, hence it is a misbehavior of a formula for higher frequencies. It is considered a flaw in classical physics that led to the development of quantum mechanics. It does not refer to a phenomenon in multi-mode vibration, a standing wave, or a disproven theory about electromagnetic radiation distribution, but rather to the incorrect prediction of energy distribution at high frequencies.\n",
      "---\n",
      "16\n",
      "What is the most popular explanation for the shower-curtain effect?\n",
      "E\n",
      "['E', 'A', 'C']\n",
      "The most popular explanation for the shower-curtain effect is related to the behavior of air currents and pressure differentials around the shower curtain. Bernoulli's principle, which states that an increase in the speed of a fluid occurs simultaneously with a decrease in pressure, is often cited as a key factor. The pressure differential between the inside and outside of the shower, as well as the movement of air across the outside surface of the shower curtain, are also commonly mentioned in explanations of the effect.\n",
      "---\n",
      "17\n",
      "What is the butterfly effect?\n",
      "E\n",
      "['E', 'B', 'C']\n",
      "The butterfly effect refers to the concept in chaos theory where small changes in initial conditions can lead to vastly different outcomes. It does not specifically relate to classical physics, spheres rolling down slopes, or proportionality between cause and effect. It is more about the sensitivity to initial conditions and how they can affect the outcome in a non-linear system.\n",
      "---\n",
      "18\n",
      "What is the 'reactive Leidenfrost effect' observed in non-volatile materials?\n",
      "A\n",
      "['A', 'C', 'D']\n",
      "The 'reactive Leidenfrost effect' refers to a phenomenon where particles levitate above a surface due to a layer of gas or vapor. The term 'reactive' suggests a dynamic interaction, and 'Leidenfrost' typically refers to levitation above a hot surface due to vaporization. The term 'non-volatile' suggests that the materials do not easily vaporize, which is consistent with the effect being observed in such materials rather than volatile ones.\n",
      "---\n",
      "19\n",
      "What is reciprocal length or inverse length?\n",
      "E\n",
      "['E', 'A', 'B']\n",
      "Reciprocal length or inverse length is a concept used in various scientific fields, including physics, to describe a quantity that is the inverse of a length measurement. It is not related to time, area, mass, or interest rates.\n",
      "---\n",
      "20\n",
      "Which of the following statements is true about the categorization of planetary systems according to their orbital dynamics?\n",
      "D\n",
      "['D', 'E', 'C']\n",
      "Planetary systems are often categorized based on their orbital dynamics, which include resonant, non-resonant-interacting, and hierarchical configurations. These categories are not solely based on the number of planets, nor are they limited to just resonant or hierarchical types.\n",
      "---\n",
      "An error occurred: Expecting property name enclosed in double quotes: line 14657 column 1 (char 15268)\n"
     ]
    },
    {
     "ename": "IndexError",
     "evalue": "list index out of range",
     "output_type": "error",
     "traceback": [
      "\u001b[0;31m---------------------------------------------------------------------------\u001b[0m",
      "\u001b[0;31mIndexError\u001b[0m                                Traceback (most recent call last)",
      "Cell \u001b[0;32mIn[47], line 14\u001b[0m\n\u001b[1;32m     11\u001b[0m user_message \u001b[38;5;241m+\u001b[39m\u001b[38;5;241m=\u001b[39m \u001b[38;5;124m'\u001b[39m\u001b[38;5;130;01m\\n\u001b[39;00m\u001b[38;5;130;01m\\n\u001b[39;00m\u001b[38;5;124mProvide the answer in the form of the three letter choices only, without explanation, e.g. A D B\u001b[39m\u001b[38;5;130;01m\\n\u001b[39;00m\u001b[38;5;124m'\u001b[39m\n\u001b[1;32m     13\u001b[0m \u001b[38;5;66;03m# Returns a list of potential function calls for each message, so we're just expecting the 0th one\u001b[39;00m\n\u001b[0;32m---> 14\u001b[0m answers_reasoning \u001b[38;5;241m=\u001b[39m \u001b[43mget_function_call_arguments\u001b[49m\u001b[43m(\u001b[49m\u001b[43msystem_message\u001b[49m\u001b[43m,\u001b[49m\u001b[43m \u001b[49m\u001b[43muser_message\u001b[49m\u001b[43m,\u001b[49m\u001b[43m \u001b[49m\u001b[43mtemperature\u001b[49m\u001b[38;5;241;43m=\u001b[39;49m\u001b[43mtemperature\u001b[49m\u001b[43m)\u001b[49m\u001b[43m[\u001b[49m\u001b[38;5;241;43m0\u001b[39;49m\u001b[43m]\u001b[49m\n\u001b[1;32m     15\u001b[0m all_answers_reasoning\u001b[38;5;241m.\u001b[39mappend(answers_reasoning)\n\u001b[1;32m     17\u001b[0m correct_answer \u001b[38;5;241m=\u001b[39m row\u001b[38;5;241m.\u001b[39manswer\n",
      "\u001b[0;31mIndexError\u001b[0m: list index out of range"
     ]
    }
   ],
   "source": [
    "score = 0\n",
    "n_questions = 200\n",
    "temperature = 0.0\n",
    "all_answers_reasoning = []\n",
    "\n",
    "system_message = 'Answer the following multiple-choice question by providing the three most likely answers, in order or likelihood, specified by their letter followed by a space, e.g. A B C'\n",
    "\n",
    "for index, row in train.head(n_questions).iterrows():\n",
    "    user_message = f'Question: {row.prompt}\\n'\n",
    "    user_message += '\\n'.join([f'{l}) {row[l]}' for l in 'ABCDE'])\n",
    "    user_message += '\\n\\nProvide the answer in the form of the three letter choices only, without explanation, e.g. A D B\\n'\n",
    "\n",
    "    # Returns a list of potential function calls for each message, so we're just expecting the 0th one\n",
    "    answers_reasoning = get_function_call_arguments(system_message, user_message, temperature=temperature)[0]\n",
    "    all_answers_reasoning.append(answers_reasoning)\n",
    "\n",
    "    correct_answer = row.answer\n",
    "    for i, pred in enumerate(answers_reasoning['answers']):\n",
    "        if pred == correct_answer:\n",
    "            score += 1 / (i + 1)  # 1 for first being correct, 1/2 for second, 1/3 for third\n",
    "\n",
    "    print('\\n'.join(str(x) for x in [index, row.prompt, correct_answer, answers_reasoning['answers'], answers_reasoning['reasoning']]))\n",
    "    print('---')\n",
    "\n",
    "print(f'Average score: {score / n_questions:.4f}')"
   ]
  },
  {
   "cell_type": "markdown",
   "metadata": {},
   "source": [
    "## Results\n",
    "\n",
    "**gpt-3.5-turbo-1106**\n",
    "\n",
    "Chat messages (no function calling):\n",
    "  - Average score 100 questions: 0.8033\n",
    "  - Average score 200 questions: 0.7992\n",
    "\n",
    "Function calling:\n",
    "  - Average score 100 questions: 0.7710\n",
    "  - Average score 200 questions: 0.8000\n",
    "\n",
    "### gpt-4-1106-preview' (gpt-4 turbo preview)\n",
    "Chat messages (no function calling):\n",
    "  - Average score 200 questions: 0.8875\n",
    "Function calling:\n",
    "  - Average score 200 questions: \n"
   ]
  },
  {
   "cell_type": "code",
   "execution_count": 38,
   "metadata": {},
   "outputs": [
    {
     "data": {
      "text/html": [
       "<div>\n",
       "<style scoped>\n",
       "    .dataframe tbody tr th:only-of-type {\n",
       "        vertical-align: middle;\n",
       "    }\n",
       "\n",
       "    .dataframe tbody tr th {\n",
       "        vertical-align: top;\n",
       "    }\n",
       "\n",
       "    .dataframe thead th {\n",
       "        text-align: right;\n",
       "    }\n",
       "</style>\n",
       "<table border=\"1\" class=\"dataframe\">\n",
       "  <thead>\n",
       "    <tr style=\"text-align: right;\">\n",
       "      <th></th>\n",
       "      <th>id</th>\n",
       "    </tr>\n",
       "  </thead>\n",
       "  <tbody>\n",
       "    <tr>\n",
       "      <th>count</th>\n",
       "      <td>200.000000</td>\n",
       "    </tr>\n",
       "    <tr>\n",
       "      <th>mean</th>\n",
       "      <td>99.500000</td>\n",
       "    </tr>\n",
       "    <tr>\n",
       "      <th>std</th>\n",
       "      <td>57.879185</td>\n",
       "    </tr>\n",
       "    <tr>\n",
       "      <th>min</th>\n",
       "      <td>0.000000</td>\n",
       "    </tr>\n",
       "    <tr>\n",
       "      <th>25%</th>\n",
       "      <td>49.750000</td>\n",
       "    </tr>\n",
       "    <tr>\n",
       "      <th>50%</th>\n",
       "      <td>99.500000</td>\n",
       "    </tr>\n",
       "    <tr>\n",
       "      <th>75%</th>\n",
       "      <td>149.250000</td>\n",
       "    </tr>\n",
       "    <tr>\n",
       "      <th>max</th>\n",
       "      <td>199.000000</td>\n",
       "    </tr>\n",
       "  </tbody>\n",
       "</table>\n",
       "</div>"
      ],
      "text/plain": [
       "               id\n",
       "count  200.000000\n",
       "mean    99.500000\n",
       "std     57.879185\n",
       "min      0.000000\n",
       "25%     49.750000\n",
       "50%     99.500000\n",
       "75%    149.250000\n",
       "max    199.000000"
      ]
     },
     "execution_count": 38,
     "metadata": {},
     "output_type": "execute_result"
    }
   ],
   "source": [
    "train.describe()"
   ]
  }
 ],
 "metadata": {
  "kernelspec": {
   "display_name": ".venv",
   "language": "python",
   "name": "python3"
  },
  "language_info": {
   "codemirror_mode": {
    "name": "ipython",
    "version": 3
   },
   "file_extension": ".py",
   "mimetype": "text/x-python",
   "name": "python",
   "nbconvert_exporter": "python",
   "pygments_lexer": "ipython3",
   "version": "3.11.6"
  }
 },
 "nbformat": 4,
 "nbformat_minor": 2
}
